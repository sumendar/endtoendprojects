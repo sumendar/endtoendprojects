{
 "cells": [
  {
   "cell_type": "raw",
   "id": "fcd79afc-b900-4b7c-a83e-e9a84fcac400",
   "metadata": {},
   "source": [
    "---\n",
    "title: <sub>Telangana Lok Sabha Elections Parliamentary - 2019 --> 2024 (?)</sub>\n",
    "author: \"Sumendar\"\n",
    "date: \"2024-05-20\"\n",
    "image: \"imgs/2019_Telangana_Parliment_Election_Image.png\"\n",
    "\n",
    "categories: [DataWrapper, Telangana Lok Sabha Elections - Parliamentary]\n",
    "---"
   ]
  },
  {
   "cell_type": "markdown",
   "id": "c08e22cb-842f-481b-94d6-ab81715b01fa",
   "metadata": {},
   "source": [
    "<iframe title=\"Telangana Lok Sabha Elections (Parliamentary): 2019 --&amp;gt; 2024 (?)\" aria-label=\"Map\" id=\"datawrapper-chart-I8yhJ\" src=\"https://datawrapper.dwcdn.net/I8yhJ/10/\" scrolling=\"no\" frameborder=\"0\" style=\"border: none;\" width=\"600\" height=\"553\" data-external=\"1\"></iframe>"
   ]
  },
  {
   "cell_type": "markdown",
   "id": "b601545b-ad73-4d05-8f6e-8015b3c651bc",
   "metadata": {},
   "source": [
    "<iframe title=\"Telangana Lok Sabha Elections (Parliamentary): 2019 --&amp;gt; 2024 (?)\" aria-label=\"Map\" id=\"datawrapper-chart-I8yhJ\" src=\"https://datawrapper.dwcdn.net/I8yhJ/10/\" scrolling=\"no\" frameborder=\"0\" style=\"border: none;\" width=\"600\" height=\"553\" data-external=\"1\"></iframe>"
   ]
  }
 ],
 "metadata": {
  "hide_input": false,
  "kernelspec": {
   "display_name": "Python 3 (ipykernel)",
   "language": "python",
   "name": "python3"
  },
  "language_info": {
   "codemirror_mode": {
    "name": "ipython",
    "version": 3
   },
   "file_extension": ".py",
   "mimetype": "text/x-python",
   "name": "python",
   "nbconvert_exporter": "python",
   "pygments_lexer": "ipython3",
   "version": "3.11.7"
  },
  "toc": {
   "base_numbering": 1,
   "nav_menu": {},
   "number_sections": true,
   "sideBar": true,
   "skip_h1_title": false,
   "title_cell": "Table of Contents",
   "title_sidebar": "Contents",
   "toc_cell": false,
   "toc_position": {},
   "toc_section_display": true,
   "toc_window_display": false
  },
  "varInspector": {
   "cols": {
    "lenName": 16,
    "lenType": 16,
    "lenVar": 40
   },
   "kernels_config": {
    "python": {
     "delete_cmd_postfix": "",
     "delete_cmd_prefix": "del ",
     "library": "var_list.py",
     "varRefreshCmd": "print(var_dic_list())"
    },
    "r": {
     "delete_cmd_postfix": ") ",
     "delete_cmd_prefix": "rm(",
     "library": "var_list.r",
     "varRefreshCmd": "cat(var_dic_list()) "
    }
   },
   "types_to_exclude": [
    "module",
    "function",
    "builtin_function_or_method",
    "instance",
    "_Feature"
   ],
   "window_display": false
  },
  "widgets": {
   "application/vnd.jupyter.widget-state+json": {
    "state": {},
    "version_major": 2,
    "version_minor": 0
   }
  }
 },
 "nbformat": 4,
 "nbformat_minor": 5
}

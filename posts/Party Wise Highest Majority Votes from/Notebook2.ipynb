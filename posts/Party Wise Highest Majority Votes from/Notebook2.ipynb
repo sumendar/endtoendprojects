{
 "cells": [
  {
   "cell_type": "raw",
   "id": "a5f016cd",
   "metadata": {},
   "source": [
    "---\n",
    "title: <sub>Count of Extra Votes Received by Each Elected Telangana legislator (MLA) against their first defendant (Highest First) - Telangana Elections-Dec-2023</sub>\n",
    "author: \"Sumendar\"\n",
    "date: \"2023-12-29\"\n",
    "image: \"image2.png\"\n",
    "\n",
    "categories: [DataWrapper, Telangana Elections]\n",
    "---"
   ]
  },
  {
   "cell_type": "markdown",
   "id": "07b10ee3",
   "metadata": {},
   "source": [
    "### New: Embed with script"
   ]
  },
  {
   "cell_type": "markdown",
   "id": "6410156a",
   "metadata": {},
   "source": [
    "<div style=\"min-height:6244px\"><script type=\"text/javascript\" defer src=\"https://datawrapper.dwcdn.net/Osc04/embed.js?\" charset=\"utf-8\"></script><noscript><img src=\"https://datawrapper.dwcdn.net/Osc04/full.png\" alt=\"\" /></noscript></div>"
   ]
  }
 ],
 "metadata": {
  "hide_input": false,
  "kernelspec": {
   "display_name": "Python 3 (ipykernel)",
   "language": "python",
   "name": "python3"
  },
  "language_info": {
   "codemirror_mode": {
    "name": "ipython",
    "version": 3
   },
   "file_extension": ".py",
   "mimetype": "text/x-python",
   "name": "python",
   "nbconvert_exporter": "python",
   "pygments_lexer": "ipython3",
   "version": "3.11.7"
  },
  "toc": {
   "base_numbering": 1,
   "nav_menu": {},
   "number_sections": true,
   "sideBar": true,
   "skip_h1_title": false,
   "title_cell": "Table of Contents",
   "title_sidebar": "Contents",
   "toc_cell": false,
   "toc_position": {},
   "toc_section_display": true,
   "toc_window_display": false
  },
  "varInspector": {
   "cols": {
    "lenName": 16,
    "lenType": 16,
    "lenVar": 40
   },
   "kernels_config": {
    "python": {
     "delete_cmd_postfix": "",
     "delete_cmd_prefix": "del ",
     "library": "var_list.py",
     "varRefreshCmd": "print(var_dic_list())"
    },
    "r": {
     "delete_cmd_postfix": ") ",
     "delete_cmd_prefix": "rm(",
     "library": "var_list.r",
     "varRefreshCmd": "cat(var_dic_list()) "
    }
   },
   "types_to_exclude": [
    "module",
    "function",
    "builtin_function_or_method",
    "instance",
    "_Feature"
   ],
   "window_display": false
  },
  "widgets": {
   "application/vnd.jupyter.widget-state+json": {
    "state": {},
    "version_major": 2,
    "version_minor": 0
   }
  }
 },
 "nbformat": 4,
 "nbformat_minor": 5
}

{
 "cells": [
  {
   "cell_type": "markdown",
   "id": "aae57eba",
   "metadata": {},
   "source": [
    "---\n",
    "title: <sub>Batting Scores of the Players in IPL 2024</sub>\n",
    "author: \"Sumendar\"\n",
    "date: \"2024-08-12\"\n",
    "image: \"IPL-2024.jpg\"\n",
    "\n",
    "categories: [Tableau, Cricket, IPL 2024]\n",
    "\n",
    "---"
   ]
  },
  {
   "cell_type": "markdown",
   "id": "eedcba36",
   "metadata": {},
   "source": [
    "**Here are some of the batting statistics in the 2024 Indian Premier League (IPL):** which includes mainly Centureis, Fifties, Fours and Sixes Count...\n",
    "  \n",
    "<iframe src=\"https://public.tableau.com/views/BattingScoresofthePlayersinIPL2024/BattingScoresofthePlayersinIPL2024?:showVizHome=no&amp;:embed=true\" width=\"1024\" height=\"768\"></iframe>"
   ]
  }
 ],
 "metadata": {
  "hide_input": false,
  "kernelspec": {
   "display_name": "Python 3 (ipykernel)",
   "language": "python",
   "name": "python3"
  },
  "language_info": {
   "codemirror_mode": {
    "name": "ipython",
    "version": 3
   },
   "file_extension": ".py",
   "mimetype": "text/x-python",
   "name": "python",
   "nbconvert_exporter": "python",
   "pygments_lexer": "ipython3",
   "version": "3.11.7"
  },
  "toc": {
   "base_numbering": 1,
   "nav_menu": {},
   "number_sections": true,
   "sideBar": true,
   "skip_h1_title": false,
   "title_cell": "Table of Contents",
   "title_sidebar": "Contents",
   "toc_cell": false,
   "toc_position": {},
   "toc_section_display": true,
   "toc_window_display": false
  },
  "varInspector": {
   "cols": {
    "lenName": 16,
    "lenType": 16,
    "lenVar": 40
   },
   "kernels_config": {
    "python": {
     "delete_cmd_postfix": "",
     "delete_cmd_prefix": "del ",
     "library": "var_list.py",
     "varRefreshCmd": "print(var_dic_list())"
    },
    "r": {
     "delete_cmd_postfix": ") ",
     "delete_cmd_prefix": "rm(",
     "library": "var_list.r",
     "varRefreshCmd": "cat(var_dic_list()) "
    }
   },
   "types_to_exclude": [
    "module",
    "function",
    "builtin_function_or_method",
    "instance",
    "_Feature"
   ],
   "window_display": false
  },
  "widgets": {
   "application/vnd.jupyter.widget-state+json": {
    "state": {},
    "version_major": 2,
    "version_minor": 0
   }
  }
 },
 "nbformat": 4,
 "nbformat_minor": 5
}

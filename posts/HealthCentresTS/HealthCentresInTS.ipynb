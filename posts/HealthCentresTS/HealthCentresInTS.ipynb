{
 "cells": [
  {
   "cell_type": "raw",
   "id": "3f2cf215",
   "metadata": {},
   "source": [
    "---\n",
    "title: <sub>Health Centres Information in Telangana State, India (in Each Village/City/Town) by sumendar</sub>\n",
    "listing:    \n",
    "    contents: posts\n",
    "    type: default \n",
    "author: \"Sumendar\"\n",
    "date: \"2023-05-16\"\n",
    "image: \"Basti_Hospital.jpg\"\n",
    "\n",
    "categories: [Health, Telangana]\n",
    "---"
   ]
  },
  {
   "cell_type": "markdown",
   "id": "0f715d07",
   "metadata": {},
   "source": [
    "<iframe src=\"https://public.tableau.com/views/HealthCentresInformationinTelanganaStateinEachVillageCity_16844717314680/HealthCentresInformationinTelanganainEachVillageCity?:showVizHome=no&amp;:embed=true\" width=\"1285\" height=\"600\"></iframe>"
   ]
  },
  {
   "cell_type": "markdown",
   "id": "5f254544",
   "metadata": {},
   "source": [
    "<iframe src=\"https://public.tableau.com/views/HealthCentresInformationinTelanganainEachVillageCity_16842570453310/Dashboard1?:showVizHome=no&amp;:embed=true\" width=\"1285\" height=\"600\"></iframe>"
   ]
  }
 ],
 "metadata": {
  "hide_input": false,
  "kernelspec": {
   "display_name": "Python 3 (ipykernel)",
   "language": "python",
   "name": "python3"
  },
  "language_info": {
   "codemirror_mode": {
    "name": "ipython",
    "version": 3
   },
   "file_extension": ".py",
   "mimetype": "text/x-python",
   "name": "python",
   "nbconvert_exporter": "python",
   "pygments_lexer": "ipython3",
   "version": "3.9.13"
  },
  "latex_envs": {
   "LaTeX_envs_menu_present": true,
   "autoclose": false,
   "autocomplete": true,
   "bibliofile": "biblio.bib",
   "cite_by": "apalike",
   "current_citInitial": 1,
   "eqLabelWithNumbers": true,
   "eqNumInitial": 1,
   "hotkeys": {
    "equation": "Ctrl-E",
    "itemize": "Ctrl-I"
   },
   "labels_anchors": false,
   "latex_user_defs": false,
   "report_style_numbering": false,
   "user_envs_cfg": false
  },
  "toc": {
   "base_numbering": 1,
   "nav_menu": {},
   "number_sections": true,
   "sideBar": true,
   "skip_h1_title": false,
   "title_cell": "Table of Contents",
   "title_sidebar": "Contents",
   "toc_cell": false,
   "toc_position": {},
   "toc_section_display": true,
   "toc_window_display": false
  },
  "varInspector": {
   "cols": {
    "lenName": 16,
    "lenType": 16,
    "lenVar": 40
   },
   "kernels_config": {
    "python": {
     "delete_cmd_postfix": "",
     "delete_cmd_prefix": "del ",
     "library": "var_list.py",
     "varRefreshCmd": "print(var_dic_list())"
    },
    "r": {
     "delete_cmd_postfix": ") ",
     "delete_cmd_prefix": "rm(",
     "library": "var_list.r",
     "varRefreshCmd": "cat(var_dic_list()) "
    }
   },
   "types_to_exclude": [
    "module",
    "function",
    "builtin_function_or_method",
    "instance",
    "_Feature"
   ],
   "window_display": false
  }
 },
 "nbformat": 4,
 "nbformat_minor": 5
}

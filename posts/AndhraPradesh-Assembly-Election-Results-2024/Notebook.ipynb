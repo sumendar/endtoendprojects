{
 "cells": [
  {
   "cell_type": "raw",
   "id": "0433a73d-c7e6-44c5-b322-4ab9425ca7a7",
   "metadata": {},
   "source": [
    "---\n",
    "title: <sub>Assembly Election Results June-2024 Andhra Pradesh</sub>\n",
    "author: \"Sumendar\"\n",
    "date: \"2024-06-07\"\n",
    "image: \"imgs/2019-vs-2024.png\"\n",
    "\n",
    "categories: [DataWrapper, AP Assembly Elections - 2024]\n",
    "---"
   ]
  },
  {
   "cell_type": "markdown",
   "id": "018ea574-91d7-4032-9f10-5ec9e506d069",
   "metadata": {},
   "source": [
    "<iframe title=\"2024 Andhra Pradesh Legislative Assembly Elections\" aria-label=\"Map\" id=\"datawrapper-chart-BE8ag\" src=\"https://datawrapper.dwcdn.net/BE8ag/1/\" scrolling=\"no\" frameborder=\"0\" style=\"border: none;\" width=\"600\" height=\"613\" data-external=\"1\"></iframe>"
   ]
  }
 ],
 "metadata": {
  "kernelspec": {
   "display_name": "Python 3 (ipykernel)",
   "language": "python",
   "name": "python3"
  },
  "language_info": {
   "codemirror_mode": {
    "name": "ipython",
    "version": 3
   },
   "file_extension": ".py",
   "mimetype": "text/x-python",
   "name": "python",
   "nbconvert_exporter": "python",
   "pygments_lexer": "ipython3",
   "version": "3.11.7"
  },
  "widgets": {
   "application/vnd.jupyter.widget-state+json": {
    "state": {},
    "version_major": 2,
    "version_minor": 0
   }
  }
 },
 "nbformat": 4,
 "nbformat_minor": 5
}

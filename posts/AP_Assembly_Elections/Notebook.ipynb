{
 "cells": [
  {
   "cell_type": "raw",
   "id": "fcd79afc-b900-4b7c-a83e-e9a84fcac400",
   "metadata": {},
   "source": [
    "---\n",
    "title: <sub>Andhra Pradesh Legislative Assembly elections - 2019 ---> 2024 (?)</sub>\n",
    "author: \"Sumendar\"\n",
    "date: \"2024-03-12\"\n",
    "image: \"imgs/2019_Andhra_Pradesh_Legislative_Assembly_election_image_with_zoomed_in.png\"\n",
    "\n",
    "categories: [DataWrapper, AndhraPradesh Elections]\n",
    "---"
   ]
  },
  {
   "cell_type": "markdown",
   "id": "7d1611f8-9340-430e-a2d9-2519bf223cde",
   "metadata": {},
   "source": [
    "<div style=\"min-height:497px\"><script type=\"text/javascript\" defer src=\"https://datawrapper.dwcdn.net/rGmAT/embed.js?\" charset=\"utf-8\"></script><noscript><img src=\"https://datawrapper.dwcdn.net/rGmAT/full.png\" alt=\"\" /></noscript></div>"
   ]
  }
 ],
 "metadata": {
  "hide_input": false,
  "kernelspec": {
   "display_name": "Python 3 (ipykernel)",
   "language": "python",
   "name": "python3"
  },
  "language_info": {
   "codemirror_mode": {
    "name": "ipython",
    "version": 3
   },
   "file_extension": ".py",
   "mimetype": "text/x-python",
   "name": "python",
   "nbconvert_exporter": "python",
   "pygments_lexer": "ipython3",
   "version": "3.11.7"
  },
  "toc": {
   "base_numbering": 1,
   "nav_menu": {},
   "number_sections": true,
   "sideBar": true,
   "skip_h1_title": false,
   "title_cell": "Table of Contents",
   "title_sidebar": "Contents",
   "toc_cell": false,
   "toc_position": {},
   "toc_section_display": true,
   "toc_window_display": false
  },
  "varInspector": {
   "cols": {
    "lenName": 16,
    "lenType": 16,
    "lenVar": 40
   },
   "kernels_config": {
    "python": {
     "delete_cmd_postfix": "",
     "delete_cmd_prefix": "del ",
     "library": "var_list.py",
     "varRefreshCmd": "print(var_dic_list())"
    },
    "r": {
     "delete_cmd_postfix": ") ",
     "delete_cmd_prefix": "rm(",
     "library": "var_list.r",
     "varRefreshCmd": "cat(var_dic_list()) "
    }
   },
   "types_to_exclude": [
    "module",
    "function",
    "builtin_function_or_method",
    "instance",
    "_Feature"
   ],
   "window_display": false
  },
  "widgets": {
   "application/vnd.jupyter.widget-state+json": {
    "state": {},
    "version_major": 2,
    "version_minor": 0
   }
  }
 },
 "nbformat": 4,
 "nbformat_minor": 5
}

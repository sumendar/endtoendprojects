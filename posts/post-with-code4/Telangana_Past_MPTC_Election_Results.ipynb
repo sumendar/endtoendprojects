{
 "cells": [
  {
   "cell_type": "raw",
   "id": "4fc98c58-9612-4039-b02a-7f474994ce7f",
   "metadata": {},
   "source": [
    "---\n",
    "title: <sub>తెలంగాణ రాష్ట్రంలో అన్ని జిల్లాల, మండల మరియు ఊళ్ళకి సంబంధించిన MPTC లపేర్లు గత ఎన్నికలకి చెందిన వివరాలు</sub>\n",
    "listing:    \n",
    "    contents: posts\n",
    "    type: default\n",
    "author: \"Sumendar\"\n",
    "date: \"2023-04-02\"\n",
    "image: \"163291-mptc.jpg\"\n",
    "\n",
    "categories: [elections results, MPTC, telangana, mandals]\n",
    "\n",
    "---"
   ]
  },
  {
   "cell_type": "markdown",
   "id": "00dd2bc9",
   "metadata": {},
   "source": [
    "<iframe src=\"https://public.tableau.com/views/TelanganaMPTCElectionsResults2019/TelanganaMPTCElectionsResults2019?:showVizHome=no&amp;:embed=true\" width=\"1285\" height=\"600\"></iframe>"
   ]
  },
  {
   "cell_type": "code",
   "execution_count": 1,
   "id": "c71291fa",
   "metadata": {},
   "outputs": [],
   "source": [
    "!pip install jovian -q"
   ]
  },
  {
   "cell_type": "code",
   "execution_count": 11,
   "id": "8baa495e",
   "metadata": {},
   "outputs": [
    {
     "data": {
      "application/javascript": [
       "window.require && require([\"base/js/namespace\"],function(Jupyter){Jupyter.notebook.save_checkpoint()})"
      ],
      "text/plain": [
       "<IPython.core.display.Javascript object>"
      ]
     },
     "metadata": {},
     "output_type": "display_data"
    },
    {
     "name": "stdout",
     "output_type": "stream",
     "text": [
      "[jovian] Updating notebook \"sumendar/telangana-past-mptc-election-results-f2ea9\" on https://jovian.com/\u001b[0m\n",
      "[jovian] Committed successfully! https://jovian.com/sumendar/telangana-past-mptc-election-results-f2ea9\u001b[0m\n"
     ]
    },
    {
     "data": {
      "text/plain": [
       "'https://jovian.com/sumendar/telangana-past-mptc-election-results-f2ea9'"
      ]
     },
     "execution_count": 11,
     "metadata": {},
     "output_type": "execute_result"
    }
   ],
   "source": [
    "import jovian\n",
    "jovian.commit(filename='Telangana_Past_MPTC_Election_Results.ipynb')"
   ]
  }
 ],
 "metadata": {
  "hide_input": false,
  "jupytext": {
   "formats": "ipynb,md:myst"
  },
  "kernelspec": {
   "display_name": "Python 3 (ipykernel)",
   "language": "python",
   "name": "python3"
  },
  "language_info": {
   "codemirror_mode": {
    "name": "ipython",
    "version": 3
   },
   "file_extension": ".py",
   "mimetype": "text/x-python",
   "name": "python",
   "nbconvert_exporter": "python",
   "pygments_lexer": "ipython3",
   "version": "3.9.13"
  },
  "latex_envs": {
   "LaTeX_envs_menu_present": true,
   "autoclose": false,
   "autocomplete": true,
   "bibliofile": "biblio.bib",
   "cite_by": "apalike",
   "current_citInitial": 1,
   "eqLabelWithNumbers": true,
   "eqNumInitial": 1,
   "hotkeys": {
    "equation": "Ctrl-E",
    "itemize": "Ctrl-I"
   },
   "labels_anchors": false,
   "latex_user_defs": false,
   "report_style_numbering": false,
   "user_envs_cfg": false
  },
  "toc": {
   "base_numbering": 1,
   "nav_menu": {},
   "number_sections": true,
   "sideBar": true,
   "skip_h1_title": false,
   "title_cell": "Table of Contents",
   "title_sidebar": "Contents",
   "toc_cell": false,
   "toc_position": {},
   "toc_section_display": true,
   "toc_window_display": false
  },
  "varInspector": {
   "cols": {
    "lenName": 16,
    "lenType": 16,
    "lenVar": 40
   },
   "kernels_config": {
    "python": {
     "delete_cmd_postfix": "",
     "delete_cmd_prefix": "del ",
     "library": "var_list.py",
     "varRefreshCmd": "print(var_dic_list())"
    },
    "r": {
     "delete_cmd_postfix": ") ",
     "delete_cmd_prefix": "rm(",
     "library": "var_list.r",
     "varRefreshCmd": "cat(var_dic_list()) "
    }
   },
   "types_to_exclude": [
    "module",
    "function",
    "builtin_function_or_method",
    "instance",
    "_Feature"
   ],
   "window_display": false
  }
 },
 "nbformat": 4,
 "nbformat_minor": 5
}

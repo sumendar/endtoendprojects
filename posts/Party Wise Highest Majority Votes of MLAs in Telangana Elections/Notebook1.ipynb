{
 "cells": [
  {
   "cell_type": "raw",
   "id": "4c027715",
   "metadata": {},
   "source": [
    "---\n",
    "title: <sub>Party Wise Highest Majority Votes of MLAs in Telangana Elections - Dec-2023</sub>\n",
    "author: \"Sumendar\"\n",
    "date: \"2023-12-28\"\n",
    "image: \"image1.png\"\n",
    "\n",
    "categories: [DataWrapper, Telangana Elections]\n",
    "---"
   ]
  },
  {
   "cell_type": "markdown",
   "id": "acb1aadb",
   "metadata": {},
   "source": [
    "###  Responsive iframe"
   ]
  },
  {
   "cell_type": "markdown",
   "id": "758d0573",
   "metadata": {},
   "source": [
    "<iframe title=\"Party Wise Highest Majority Votes from all Telangana MLAs Compared with Their First Opponent\" aria-label=\"Bar Chart\" id=\"datawrapper-chart-n7wcf\" src=\"https://datawrapper.dwcdn.net/n7wcf/8/\" scrolling=\"no\" frameborder=\"0\" style=\"width: 0; min-width: 100% !important; border: none;\" height=\"2978\" data-external=\"1\"></iframe><script type=\"text/javascript\">!function(){\"use strict\";window.addEventListener(\"message\",(function(a){if(void 0!==a.data[\"datawrapper-height\"]){var e=document.querySelectorAll(\"iframe\");for(var t in a.data[\"datawrapper-height\"])for(var r=0;r<e.length;r++)if(e[r].contentWindow===a.source){var i=a.data[\"datawrapper-height\"][t]+\"px\";e[r].style.height=i}}}))}();\n",
    "</script>"
   ]
  },
  {
   "cell_type": "markdown",
   "id": "7e84907b",
   "metadata": {},
   "source": [
    "### iframe"
   ]
  },
  {
   "cell_type": "markdown",
   "id": "1efeb87d",
   "metadata": {},
   "source": [
    "<iframe title=\"Party Wise Highest Majority Votes from all Telangana MLAs Compared with Their First Opponent\" aria-label=\"Bar Chart\" id=\"datawrapper-chart-n7wcf\" src=\"https://datawrapper.dwcdn.net/n7wcf/8/\" scrolling=\"no\" frameborder=\"0\" style=\"border: none;\" width=\"600\" height=\"2978\" data-external=\"1\"></iframe>"
   ]
  },
  {
   "cell_type": "markdown",
   "id": "018c49e0",
   "metadata": {},
   "source": [
    "### New: Embed with Script"
   ]
  },
  {
   "cell_type": "markdown",
   "id": "493e2b21",
   "metadata": {},
   "source": [
    "<div style=\"min-height:2978px\"><script type=\"text/javascript\" defer src=\"https://datawrapper.dwcdn.net/n7wcf/embed.js?v=8\" charset=\"utf-8\"></script><noscript><img src=\"https://datawrapper.dwcdn.net/n7wcf/full.png\" alt=\"\" /></noscript></div>"
   ]
  }
 ],
 "metadata": {
  "hide_input": false,
  "kernelspec": {
   "display_name": "Python 3 (ipykernel)",
   "language": "python",
   "name": "python3"
  },
  "language_info": {
   "codemirror_mode": {
    "name": "ipython",
    "version": 3
   },
   "file_extension": ".py",
   "mimetype": "text/x-python",
   "name": "python",
   "nbconvert_exporter": "python",
   "pygments_lexer": "ipython3",
   "version": "3.11.7"
  },
  "toc": {
   "base_numbering": 1,
   "nav_menu": {},
   "number_sections": true,
   "sideBar": true,
   "skip_h1_title": false,
   "title_cell": "Table of Contents",
   "title_sidebar": "Contents",
   "toc_cell": false,
   "toc_position": {},
   "toc_section_display": true,
   "toc_window_display": false
  },
  "varInspector": {
   "cols": {
    "lenName": 16,
    "lenType": 16,
    "lenVar": 40
   },
   "kernels_config": {
    "python": {
     "delete_cmd_postfix": "",
     "delete_cmd_prefix": "del ",
     "library": "var_list.py",
     "varRefreshCmd": "print(var_dic_list())"
    },
    "r": {
     "delete_cmd_postfix": ") ",
     "delete_cmd_prefix": "rm(",
     "library": "var_list.r",
     "varRefreshCmd": "cat(var_dic_list()) "
    }
   },
   "types_to_exclude": [
    "module",
    "function",
    "builtin_function_or_method",
    "instance",
    "_Feature"
   ],
   "window_display": false
  },
  "widgets": {
   "application/vnd.jupyter.widget-state+json": {
    "state": {},
    "version_major": 2,
    "version_minor": 0
   }
  }
 },
 "nbformat": 4,
 "nbformat_minor": 5
}

{
  "cells": [
    {
      "cell_type": "markdown",
      "metadata": {},
      "source": [
        "# MySQL Check (Sample Notebook for preview ipynb)\n",
        "> A tutorial of SQL Basics Scripting.\n",
        "\n",
        "- toc: true \n",
        "- badges: true\n",
        "- comments: true\n",
        "- categories: [SQL]\n",
        "\n",
        "# **Resources:**  \n",
        "+ https://www.educba.com/data-science/data-science-tutorials/mysql-tutorial/  \n",
        "+ https://www.w3schools.com/mysql/default.asp  \n"
      ],
      "id": "4c0ce1f7"
    },
    {
      "cell_type": "code",
      "metadata": {
        "azdata_cell_guid": "3440b9ca-03e9-4fc9-b924-ed383519f471",
        "language": "sql"
      },
      "source": [
        "USE world;\n",
        "SELECT * from city limit 5;"
      ],
      "id": "1888e43f",
      "execution_count": null,
      "outputs": []
    },
    {
      "cell_type": "code",
      "metadata": {
        "azdata_cell_guid": "c7da93ac-bb67-4b9a-a319-ea701d1bce57",
        "language": "sql"
      },
      "source": [
        "# LECTURE: Creating a Database - Part I here we are creating Sales Database\n",
        "\n",
        "CREATE DATABASE IF NOT EXISTS Sales;\n",
        "\n",
        "CREATE SCHEMA IF NOT EXISTS Sales;"
      ],
      "id": "c6ea649b",
      "execution_count": null,
      "outputs": []
    },
    {
      "cell_type": "code",
      "metadata": {
        "azdata_cell_guid": "c0fa8df0-88ef-4a27-bd65-407157246b4f",
        "language": "sql"
      },
      "source": [
        "USE Sales;"
      ],
      "id": "3cb50907",
      "execution_count": null,
      "outputs": []
    },
    {
      "cell_type": "code",
      "metadata": {
        "azdata_cell_guid": "3d64b7a9-3d2e-4690-b4fc-13df3d47c860",
        "language": "sql"
      },
      "source": [
        "CREATE TABLE sales\n",
        "(\n",
        "    purchase_number INT NOT NULL PRIMARY KEY AUTO_INCREMENT,\n",
        "    date_of_purchase DATE NOT NULL,\n",
        "    customer_id INT,\n",
        "    item_code VARCHAR(10) NOT NULL\n",
        "\n",
        ");"
      ],
      "id": "9fa08126",
      "execution_count": null,
      "outputs": []
    }
  ],
  "metadata": {
    "kernelspec": {
      "display_name": "Python 3 (ipykernel)",
      "language": "python",
      "name": "python3"
    },
    "jupytext": {
      "formats": "ipynb,qmd:quarto,md:myst",
      "text_representation": {
        "extension": ".qmd",
        "format_name": "quarto",
        "format_version": "1.0",
        "jupytext_version": "1.14.5"
      }
    }
  },
  "nbformat": 4,
  "nbformat_minor": 5
}
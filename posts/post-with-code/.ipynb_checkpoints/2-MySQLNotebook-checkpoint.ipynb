{
 "cells": [
  {
   "cell_type": "markdown",
   "id": "a2bbc172",
   "metadata": {},
   "source": [
    "# MySQL Check (Sample Notebook for preview ipynb)\n",
    "> A tutorial of SQL Basics Scripting.\n",
    "\n",
    "- toc: true \n",
    "- badges: true\n",
    "- comments: true\n",
    "- categories: [SQL]\n",
    "\n",
    "# **Resources:**  \n",
    "+ https://www.educba.com/data-science/data-science-tutorials/mysql-tutorial/  \n",
    "+ https://www.w3schools.com/mysql/default.asp  \n"
   ]
  },
  {
   "cell_type": "code",
   "execution_count": null,
   "id": "241cd514",
   "metadata": {
    "azdata_cell_guid": "3440b9ca-03e9-4fc9-b924-ed383519f471",
    "language": "sql"
   },
   "outputs": [],
   "source": [
    "USE world;\n",
    "SELECT * from city limit 5;"
   ]
  },
  {
   "cell_type": "code",
   "execution_count": null,
   "id": "19e0bc71",
   "metadata": {
    "azdata_cell_guid": "c7da93ac-bb67-4b9a-a319-ea701d1bce57",
    "language": "sql"
   },
   "outputs": [],
   "source": [
    "# LECTURE: Creating a Database - Part I here we are creating Sales Database\n",
    "\n",
    "CREATE DATABASE IF NOT EXISTS Sales;\n",
    "\n",
    "CREATE SCHEMA IF NOT EXISTS Sales;"
   ]
  },
  {
   "cell_type": "code",
   "execution_count": null,
   "id": "b104735c",
   "metadata": {
    "azdata_cell_guid": "c0fa8df0-88ef-4a27-bd65-407157246b4f",
    "language": "sql"
   },
   "outputs": [],
   "source": [
    "USE Sales;"
   ]
  },
  {
   "cell_type": "code",
   "execution_count": null,
   "id": "879f8a2f",
   "metadata": {
    "azdata_cell_guid": "3d64b7a9-3d2e-4690-b4fc-13df3d47c860",
    "language": "sql"
   },
   "outputs": [],
   "source": [
    "CREATE TABLE sales\n",
    "(\n",
    "    purchase_number INT NOT NULL PRIMARY KEY AUTO_INCREMENT,\n",
    "    date_of_purchase DATE NOT NULL,\n",
    "    customer_id INT,\n",
    "    item_code VARCHAR(10) NOT NULL\n",
    "\n",
    ");"
   ]
  }
 ],
 "metadata": {
  "hide_input": false,
  "jupytext": {
   "formats": "ipynb,qmd,md:myst"
  },
  "kernelspec": {
   "display_name": "Python 3 (ipykernel)",
   "language": "python",
   "name": "python3"
  },
  "language_info": {
   "codemirror_mode": {
    "name": "ipython",
    "version": 3
   },
   "file_extension": ".py",
   "mimetype": "text/x-python",
   "name": "python",
   "nbconvert_exporter": "python",
   "pygments_lexer": "ipython3",
   "version": "3.9.13"
  },
  "latex_envs": {
   "LaTeX_envs_menu_present": true,
   "autoclose": false,
   "autocomplete": true,
   "bibliofile": "biblio.bib",
   "cite_by": "apalike",
   "current_citInitial": 1,
   "eqLabelWithNumbers": true,
   "eqNumInitial": 1,
   "hotkeys": {
    "equation": "Ctrl-E",
    "itemize": "Ctrl-I"
   },
   "labels_anchors": false,
   "latex_user_defs": false,
   "report_style_numbering": false,
   "user_envs_cfg": false
  },
  "toc": {
   "base_numbering": 1,
   "nav_menu": {},
   "number_sections": true,
   "sideBar": true,
   "skip_h1_title": false,
   "title_cell": "Table of Contents",
   "title_sidebar": "Contents",
   "toc_cell": false,
   "toc_position": {},
   "toc_section_display": true,
   "toc_window_display": false
  },
  "varInspector": {
   "cols": {
    "lenName": 16,
    "lenType": 16,
    "lenVar": 40
   },
   "kernels_config": {
    "python": {
     "delete_cmd_postfix": "",
     "delete_cmd_prefix": "del ",
     "library": "var_list.py",
     "varRefreshCmd": "print(var_dic_list())"
    },
    "r": {
     "delete_cmd_postfix": ") ",
     "delete_cmd_prefix": "rm(",
     "library": "var_list.r",
     "varRefreshCmd": "cat(var_dic_list()) "
    }
   },
   "types_to_exclude": [
    "module",
    "function",
    "builtin_function_or_method",
    "instance",
    "_Feature"
   ],
   "window_display": false
  }
 },
 "nbformat": 4,
 "nbformat_minor": 5
}

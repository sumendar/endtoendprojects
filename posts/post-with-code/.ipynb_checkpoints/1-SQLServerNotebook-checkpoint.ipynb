{
 "cells": [
  {
   "cell_type": "raw",
   "metadata": {},
   "source": [
    "---\n",
    "title: <sub>All Tools Combinations applied in this post for Data Science</sub>\n",
    "listing:    \n",
    "    contents: posts\n",
    "    type: default\n",
    "author: \"Sumendar\"\n",
    "date: \"2023-03-10\"\n",
    "categories: [news, code, analysis]\n",
    "\n",
    "---"
   ]
  },
  {
   "cell_type": "code",
   "execution_count": 1,
   "metadata": {
    "azdata_cell_guid": "cf4b28e8-2941-4bc7-862e-121670381d2c",
    "tags": []
   },
   "outputs": [
    {
     "data": {
      "text/html": [
       "Commands completed successfully."
      ]
     },
     "metadata": {},
     "output_type": "display_data"
    },
    {
     "data": {
      "text/html": [
       "Total execution time: 00:00:00.025"
      ]
     },
     "metadata": {},
     "output_type": "display_data"
    }
   ],
   "source": [
    "USE salesdb;"
   ]
  },
  {
   "cell_type": "code",
   "execution_count": 4,
   "metadata": {
    "azdata_cell_guid": "e00ec3dc-ddd7-4053-a0ea-c9a3e4a8a27f",
    "tags": []
   },
   "outputs": [
    {
     "data": {
      "text/html": [
       "(15 rows affected)"
      ]
     },
     "metadata": {},
     "output_type": "display_data"
    },
    {
     "data": {
      "text/html": [
       "Total execution time: 00:00:00.127"
      ]
     },
     "metadata": {},
     "output_type": "display_data"
    },
    {
     "data": {
      "application/vnd.dataresource+json": {
       "data": [
        {
         "0": "1",
         "1": "Aaron",
         "2": "NULL",
         "3": "Alexander"
        },
        {
         "0": "2",
         "1": "Aaron",
         "2": "NULL",
         "3": "Bryant"
        },
        {
         "0": "3",
         "1": "Aaron",
         "2": "NULL",
         "3": "Butler"
        },
        {
         "0": "4",
         "1": "Aaron",
         "2": "NULL",
         "3": "Chen"
        },
        {
         "0": "5",
         "1": "Aaron",
         "2": "NULL",
         "3": "Coleman"
        },
        {
         "0": "6",
         "1": "Aaron",
         "2": "NULL",
         "3": "Con"
        },
        {
         "0": "7",
         "1": "Aaron",
         "2": "NULL",
         "3": "Edwards"
        },
        {
         "0": "8",
         "1": "Aaron",
         "2": "NULL",
         "3": "Flores"
        },
        {
         "0": "9",
         "1": "Aaron",
         "2": "NULL",
         "3": "Foster"
        },
        {
         "0": "10",
         "1": "Aaron",
         "2": "NULL",
         "3": "Gonzales"
        },
        {
         "0": "11",
         "1": "Aaron",
         "2": "NULL",
         "3": "Griffin"
        },
        {
         "0": "12",
         "1": "Aaron",
         "2": "NULL",
         "3": "Henderson"
        },
        {
         "0": "13",
         "1": "Aaron",
         "2": "NULL",
         "3": "Hernandez"
        },
        {
         "0": "14",
         "1": "Aaron",
         "2": "NULL",
         "3": "Hill"
        },
        {
         "0": "15",
         "1": "Aaron",
         "2": "NULL",
         "3": "Jai"
        }
       ],
       "schema": {
        "fields": [
         {
          "name": "CustomerID"
         },
         {
          "name": "FirstName"
         },
         {
          "name": "MiddleInitial"
         },
         {
          "name": "LastName"
         }
        ]
       }
      },
      "text/html": [
       "<table><tr><th>CustomerID</th><th>FirstName</th><th>MiddleInitial</th><th>LastName</th></tr><tr><td>1</td><td>Aaron</td><td>NULL</td><td>Alexander</td></tr><tr><td>2</td><td>Aaron</td><td>NULL</td><td>Bryant</td></tr><tr><td>3</td><td>Aaron</td><td>NULL</td><td>Butler</td></tr><tr><td>4</td><td>Aaron</td><td>NULL</td><td>Chen</td></tr><tr><td>5</td><td>Aaron</td><td>NULL</td><td>Coleman</td></tr><tr><td>6</td><td>Aaron</td><td>NULL</td><td>Con</td></tr><tr><td>7</td><td>Aaron</td><td>NULL</td><td>Edwards</td></tr><tr><td>8</td><td>Aaron</td><td>NULL</td><td>Flores</td></tr><tr><td>9</td><td>Aaron</td><td>NULL</td><td>Foster</td></tr><tr><td>10</td><td>Aaron</td><td>NULL</td><td>Gonzales</td></tr><tr><td>11</td><td>Aaron</td><td>NULL</td><td>Griffin</td></tr><tr><td>12</td><td>Aaron</td><td>NULL</td><td>Henderson</td></tr><tr><td>13</td><td>Aaron</td><td>NULL</td><td>Hernandez</td></tr><tr><td>14</td><td>Aaron</td><td>NULL</td><td>Hill</td></tr><tr><td>15</td><td>Aaron</td><td>NULL</td><td>Jai</td></tr></table>"
      ]
     },
     "execution_count": 4,
     "metadata": {},
     "output_type": "execute_result"
    }
   ],
   "source": [
    "SELECT TOP 15 * FROM Customers;"
   ]
  },
  {
   "cell_type": "code",
   "execution_count": 2,
   "metadata": {
    "azdata_cell_guid": "0cd776af-37e5-4266-acdb-53352e05d555",
    "tags": []
   },
   "outputs": [
    {
     "data": {
      "text/html": [
       "(7 rows affected)"
      ]
     },
     "metadata": {},
     "output_type": "display_data"
    },
    {
     "data": {
      "text/html": [
       "(8 rows affected)"
      ]
     },
     "metadata": {},
     "output_type": "display_data"
    },
    {
     "data": {
      "text/html": [
       "Total execution time: 00:00:01.895"
      ]
     },
     "metadata": {},
     "output_type": "display_data"
    },
    {
     "data": {
      "application/vnd.dataresource+json": {
       "data": [
        {
         "0": "Sr."
        },
        {
         "0": "Mrs."
        },
        {
         "0": "NULL"
        },
        {
         "0": "Sra."
        },
        {
         "0": "Ms."
        },
        {
         "0": "Ms"
        },
        {
         "0": "Mr."
        }
       ],
       "schema": {
        "fields": [
         {
          "name": "Title"
         }
        ]
       }
      },
      "text/html": [
       "<table><tr><th>Title</th></tr><tr><td>Sr.</td></tr><tr><td>Mrs.</td></tr><tr><td>NULL</td></tr><tr><td>Sra.</td></tr><tr><td>Ms.</td></tr><tr><td>Ms</td></tr><tr><td>Mr.</td></tr></table>"
      ]
     },
     "execution_count": 2,
     "metadata": {},
     "output_type": "execute_result"
    },
    {
     "data": {
      "application/vnd.dataresource+json": {
       "data": [
        {
         "0": "Discontinued Product",
         "1": "Reseller"
        },
        {
         "0": "Excess Inventory",
         "1": "Customer"
        },
        {
         "0": "Excess Inventory",
         "1": "Reseller"
        },
        {
         "0": "New Product",
         "1": "Reseller"
        },
        {
         "0": "No Discount",
         "1": "No Discount"
        },
        {
         "0": "Seasonal Discount",
         "1": "Customer"
        },
        {
         "0": "Seasonal Discount",
         "1": "Reseller"
        },
        {
         "0": "Volume Discount",
         "1": "Reseller"
        }
       ],
       "schema": {
        "fields": [
         {
          "name": "Type"
         },
         {
          "name": "Category"
         }
        ]
       }
      },
      "text/html": [
       "<table><tr><th>Type</th><th>Category</th></tr><tr><td>Discontinued Product</td><td>Reseller</td></tr><tr><td>Excess Inventory</td><td>Customer</td></tr><tr><td>Excess Inventory</td><td>Reseller</td></tr><tr><td>New Product</td><td>Reseller</td></tr><tr><td>No Discount</td><td>No Discount</td></tr><tr><td>Seasonal Discount</td><td>Customer</td></tr><tr><td>Seasonal Discount</td><td>Reseller</td></tr><tr><td>Volume Discount</td><td>Reseller</td></tr></table>"
      ]
     },
     "execution_count": 2,
     "metadata": {},
     "output_type": "execute_result"
    }
   ],
   "source": [
    "--https://docs.microsoft.com/en-us/sql/azure-data-studio/notebooks/notebooks-sql-kernel\n",
    "--SELECT distinct Title FROM Person.Person\n",
    "--SELECT distinct Type, Category FROM Sales.SpecialOffer"
   ]
  },
  {
   "cell_type": "code",
   "execution_count": 13,
   "metadata": {
    "azdata_cell_guid": "8e0b39b5-3783-43aa-a0ab-fc1823832721",
    "tags": []
   },
   "outputs": [
    {
     "data": {
      "text/html": [
       "(68 rows affected)"
      ]
     },
     "metadata": {},
     "output_type": "display_data"
    },
    {
     "data": {
      "text/html": [
       "Total execution time: 00:00:00.021"
      ]
     },
     "metadata": {},
     "output_type": "display_data"
    },
    {
     "data": {
      "application/vnd.dataresource+json": {
       "data": [
        {
         "0": "NULL",
         "1": "NULL"
        },
        {
         "0": "NULL",
         "1": "Black"
        },
        {
         "0": "NULL",
         "1": "Blue"
        },
        {
         "0": "NULL",
         "1": "Grey"
        },
        {
         "0": "NULL",
         "1": "Multi"
        },
        {
         "0": "NULL",
         "1": "Red"
        },
        {
         "0": "NULL",
         "1": "Silver"
        },
        {
         "0": "NULL",
         "1": "Silver/Black"
        },
        {
         "0": "38",
         "1": "Black"
        },
        {
         "0": "38",
         "1": "Silver"
        },
        {
         "0": "38",
         "1": "Yellow"
        },
        {
         "0": "40",
         "1": "Black"
        },
        {
         "0": "40",
         "1": "Silver"
        },
        {
         "0": "40",
         "1": "Yellow"
        },
        {
         "0": "42",
         "1": "Black"
        },
        {
         "0": "42",
         "1": "Silver"
        },
        {
         "0": "42",
         "1": "Yellow"
        },
        {
         "0": "44",
         "1": "Black"
        },
        {
         "0": "44",
         "1": "Blue"
        },
        {
         "0": "44",
         "1": "Red"
        },
        {
         "0": "44",
         "1": "Silver"
        },
        {
         "0": "44",
         "1": "Yellow"
        },
        {
         "0": "46",
         "1": "Black"
        },
        {
         "0": "46",
         "1": "Blue"
        },
        {
         "0": "46",
         "1": "Silver"
        },
        {
         "0": "46",
         "1": "Yellow"
        },
        {
         "0": "48",
         "1": "Black"
        },
        {
         "0": "48",
         "1": "Red"
        },
        {
         "0": "48",
         "1": "Silver"
        },
        {
         "0": "48",
         "1": "Yellow"
        },
        {
         "0": "50",
         "1": "Blue"
        },
        {
         "0": "50",
         "1": "Yellow"
        },
        {
         "0": "52",
         "1": "Black"
        },
        {
         "0": "52",
         "1": "Red"
        },
        {
         "0": "52",
         "1": "Silver"
        },
        {
         "0": "54",
         "1": "Blue"
        },
        {
         "0": "54",
         "1": "Yellow"
        },
        {
         "0": "56",
         "1": "Red"
        },
        {
         "0": "58",
         "1": "Black"
        },
        {
         "0": "58",
         "1": "Blue"
        },
        {
         "0": "58",
         "1": "Red"
        },
        {
         "0": "58",
         "1": "Yellow"
        },
        {
         "0": "60",
         "1": "Black"
        },
        {
         "0": "60",
         "1": "Blue"
        },
        {
         "0": "60",
         "1": "Red"
        },
        {
         "0": "60",
         "1": "Yellow"
        },
        {
         "0": "62",
         "1": "Black"
        },
        {
         "0": "62",
         "1": "Blue"
        },
        {
         "0": "62",
         "1": "Red"
        },
        {
         "0": "62",
         "1": "Yellow"
        },
        {
         "0": "70",
         "1": "Silver"
        },
        {
         "0": "L",
         "1": "Black"
        },
        {
         "0": "L",
         "1": "Blue"
        },
        {
         "0": "L",
         "1": "Multi"
        },
        {
         "0": "L",
         "1": "White"
        },
        {
         "0": "L",
         "1": "Yellow"
        },
        {
         "0": "M",
         "1": "Black"
        },
        {
         "0": "M",
         "1": "Blue"
        },
        {
         "0": "M",
         "1": "Multi"
        },
        {
         "0": "M",
         "1": "White"
        },
        {
         "0": "M",
         "1": "Yellow"
        },
        {
         "0": "S",
         "1": "Black"
        },
        {
         "0": "S",
         "1": "Blue"
        },
        {
         "0": "S",
         "1": "Multi"
        },
        {
         "0": "S",
         "1": "Yellow"
        },
        {
         "0": "XL",
         "1": "Black"
        },
        {
         "0": "XL",
         "1": "Multi"
        },
        {
         "0": "XL",
         "1": "Yellow"
        }
       ],
       "schema": {
        "fields": [
         {
          "name": "size"
         },
         {
          "name": "color"
         }
        ]
       }
      },
      "text/html": [
       "<table><tr><th>size</th><th>color</th></tr><tr><td>NULL</td><td>NULL</td></tr><tr><td>NULL</td><td>Black</td></tr><tr><td>NULL</td><td>Blue</td></tr><tr><td>NULL</td><td>Grey</td></tr><tr><td>NULL</td><td>Multi</td></tr><tr><td>NULL</td><td>Red</td></tr><tr><td>NULL</td><td>Silver</td></tr><tr><td>NULL</td><td>Silver/Black</td></tr><tr><td>38</td><td>Black</td></tr><tr><td>38</td><td>Silver</td></tr><tr><td>38</td><td>Yellow</td></tr><tr><td>40</td><td>Black</td></tr><tr><td>40</td><td>Silver</td></tr><tr><td>40</td><td>Yellow</td></tr><tr><td>42</td><td>Black</td></tr><tr><td>42</td><td>Silver</td></tr><tr><td>42</td><td>Yellow</td></tr><tr><td>44</td><td>Black</td></tr><tr><td>44</td><td>Blue</td></tr><tr><td>44</td><td>Red</td></tr><tr><td>44</td><td>Silver</td></tr><tr><td>44</td><td>Yellow</td></tr><tr><td>46</td><td>Black</td></tr><tr><td>46</td><td>Blue</td></tr><tr><td>46</td><td>Silver</td></tr><tr><td>46</td><td>Yellow</td></tr><tr><td>48</td><td>Black</td></tr><tr><td>48</td><td>Red</td></tr><tr><td>48</td><td>Silver</td></tr><tr><td>48</td><td>Yellow</td></tr><tr><td>50</td><td>Blue</td></tr><tr><td>50</td><td>Yellow</td></tr><tr><td>52</td><td>Black</td></tr><tr><td>52</td><td>Red</td></tr><tr><td>52</td><td>Silver</td></tr><tr><td>54</td><td>Blue</td></tr><tr><td>54</td><td>Yellow</td></tr><tr><td>56</td><td>Red</td></tr><tr><td>58</td><td>Black</td></tr><tr><td>58</td><td>Blue</td></tr><tr><td>58</td><td>Red</td></tr><tr><td>58</td><td>Yellow</td></tr><tr><td>60</td><td>Black</td></tr><tr><td>60</td><td>Blue</td></tr><tr><td>60</td><td>Red</td></tr><tr><td>60</td><td>Yellow</td></tr><tr><td>62</td><td>Black</td></tr><tr><td>62</td><td>Blue</td></tr><tr><td>62</td><td>Red</td></tr><tr><td>62</td><td>Yellow</td></tr><tr><td>70</td><td>Silver</td></tr><tr><td>L</td><td>Black</td></tr><tr><td>L</td><td>Blue</td></tr><tr><td>L</td><td>Multi</td></tr><tr><td>L</td><td>White</td></tr><tr><td>L</td><td>Yellow</td></tr><tr><td>M</td><td>Black</td></tr><tr><td>M</td><td>Blue</td></tr><tr><td>M</td><td>Multi</td></tr><tr><td>M</td><td>White</td></tr><tr><td>M</td><td>Yellow</td></tr><tr><td>S</td><td>Black</td></tr><tr><td>S</td><td>Blue</td></tr><tr><td>S</td><td>Multi</td></tr><tr><td>S</td><td>Yellow</td></tr><tr><td>XL</td><td>Black</td></tr><tr><td>XL</td><td>Multi</td></tr><tr><td>XL</td><td>Yellow</td></tr></table>"
      ]
     },
     "execution_count": 13,
     "metadata": {},
     "output_type": "execute_result"
    }
   ],
   "source": [
    "SELECT distinct size, color from Production.Product"
   ]
  },
  {
   "cell_type": "markdown",
   "metadata": {
    "azdata_cell_guid": "26d8ebaa-1696-4fc9-b853-dab4a8876a00"
   },
   "source": [
    "# SQL Server Coding (Direct copied from Azure Data Studion After executing output got there then pasted here)"
   ]
  },
  {
   "cell_type": "markdown",
   "metadata": {
    "azdata_cell_guid": "584d1c22-6e93-4465-bd8c-d3cd48eea892"
   },
   "source": [
    "# Data Types"
   ]
  },
  {
   "cell_type": "markdown",
   "metadata": {
    "azdata_cell_guid": "a6636571-9e60-4803-8640-1ff6859de057"
   },
   "source": [
    "![Imgur](https://i.imgur.com/Q2k1r4W.jpg)"
   ]
  },
  {
   "cell_type": "markdown",
   "metadata": {
    "azdata_cell_guid": "5f22d36f-2697-48f2-b17a-4e40d39e67f2"
   },
   "source": [
    "# Date Datatype"
   ]
  },
  {
   "cell_type": "code",
   "execution_count": 4,
   "metadata": {
    "azdata_cell_guid": "10a33a62-8f80-4fa8-9e49-b5d91169448f",
    "tags": []
   },
   "outputs": [
    {
     "data": {
      "text/html": [
       "(1 row affected)"
      ]
     },
     "metadata": {},
     "output_type": "display_data"
    },
    {
     "data": {
      "text/html": [
       "Total execution time: 00:00:00.011"
      ]
     },
     "metadata": {},
     "output_type": "display_data"
    },
    {
     "data": {
      "application/vnd.dataresource+json": {
       "data": [
        {
         "0": "2016-02-02"
        }
       ],
       "schema": {
        "fields": [
         {
          "name": "MyDate"
         }
        ]
       }
      },
      "text/html": [
       "<table><tr><th>MyDate</th></tr><tr><td>2016-02-02</td></tr></table>"
      ]
     },
     "execution_count": 4,
     "metadata": {},
     "output_type": "execute_result"
    }
   ],
   "source": [
    "Declare @myDate date = '02-02-2016'\n",
    "Select @myDate as MyDate"
   ]
  },
  {
   "cell_type": "code",
   "execution_count": 5,
   "metadata": {
    "azdata_cell_guid": "a858c15a-d07a-45c1-a6ce-db94bca7291a",
    "tags": []
   },
   "outputs": [
    {
     "data": {
      "text/html": [
       "(1 row affected)"
      ]
     },
     "metadata": {},
     "output_type": "display_data"
    },
    {
     "data": {
      "text/html": [
       "Total execution time: 00:00:00.006"
      ]
     },
     "metadata": {},
     "output_type": "display_data"
    },
    {
     "data": {
      "application/vnd.dataresource+json": {
       "data": [
        {
         "0": "2016-02-02 00:00:00.000"
        }
       ],
       "schema": {
        "fields": [
         {
          "name": "MyDateTime"
         }
        ]
       }
      },
      "text/html": [
       "<table><tr><th>MyDateTime</th></tr><tr><td>2016-02-02 00:00:00.000</td></tr></table>"
      ]
     },
     "execution_count": 5,
     "metadata": {},
     "output_type": "execute_result"
    }
   ],
   "source": [
    "Declare @myDateTime datetime = '02-02-2016'\n",
    "Select @myDateTime as MyDateTime"
   ]
  },
  {
   "cell_type": "code",
   "execution_count": 6,
   "metadata": {
    "azdata_cell_guid": "9519d7c0-b851-41c6-822e-9204e72b4fc6",
    "tags": []
   },
   "outputs": [
    {
     "data": {
      "text/html": [
       "(1 row affected)"
      ]
     },
     "metadata": {},
     "output_type": "display_data"
    },
    {
     "data": {
      "text/html": [
       "Total execution time: 00:00:00.039"
      ]
     },
     "metadata": {},
     "output_type": "display_data"
    },
    {
     "data": {
      "application/vnd.dataresource+json": {
       "data": [
        {
         "0": "16:25:42.1214000"
        }
       ],
       "schema": {
        "fields": [
         {
          "name": "MyTime"
         }
        ]
       }
      },
      "text/html": [
       "<table><tr><th>MyTime</th></tr><tr><td>16:25:42.1214000</td></tr></table>"
      ]
     },
     "execution_count": 6,
     "metadata": {},
     "output_type": "execute_result"
    }
   ],
   "source": [
    "Declare @myTime time = '16:25:42.1214'\n",
    "Select @myTime as MyTime"
   ]
  },
  {
   "cell_type": "code",
   "execution_count": 7,
   "metadata": {
    "azdata_cell_guid": "c3eb7e0d-f841-4517-ae43-3c2b70214f96",
    "tags": []
   },
   "outputs": [
    {
     "data": {
      "text/html": [
       "(1 row affected)"
      ]
     },
     "metadata": {},
     "output_type": "display_data"
    },
    {
     "data": {
      "text/html": [
       "Total execution time: 00:00:00.018"
      ]
     },
     "metadata": {},
     "output_type": "display_data"
    },
    {
     "data": {
      "application/vnd.dataresource+json": {
       "data": [
        {
         "0": "16:25:42.1200000"
        }
       ],
       "schema": {
        "fields": [
         {
          "name": "MyTime"
         }
        ]
       }
      },
      "text/html": [
       "<table><tr><th>MyTime</th></tr><tr><td>16:25:42.1200000</td></tr></table>"
      ]
     },
     "execution_count": 7,
     "metadata": {},
     "output_type": "execute_result"
    }
   ],
   "source": [
    "Declare @myTime time(2) = '16:25:42.1214'\n",
    "Select @myTime as MyTime"
   ]
  },
  {
   "cell_type": "markdown",
   "metadata": {
    "azdata_cell_guid": "647ab2dd-a2e8-44c0-a1d1-4eba7efa0562"
   },
   "source": [
    "<table>\n",
    "<tr>\n",
    "    <td>\n",
    "        <a href=\"https://imgur.com/h0zk8Zn\"><img src=\"https://i.imgur.com/h0zk8Zn.jpg\" title=\"source: imgur.com\"  Height = \"250\" width=\"350\"/></a>\n",
    "    </td>\n",
    "</tr>\n",
    "</table>\n",
    "</table>"
   ]
  },
  {
   "cell_type": "markdown",
   "metadata": {
    "azdata_cell_guid": "12185dfa-73e9-43c3-9b9c-b2666ed17eb8"
   },
   "source": [
    "# Charecter Datatype\n",
    "<table>\n",
    "    <tr>\n",
    "        <td>\n",
    "            <a href=\"https://imgur.com/dQzufRF\"><img src=\"https://i.imgur.com/dQzufRF.jpg\" title=\"source: imgur.com\"  Height = \"250\" width=\"350\"/></a>\n",
    "        </td>\n",
    "        <td>\n",
    "            <a href=\"https://imgur.com/0MQp4eg\"><img src=\"https://i.imgur.com/0MQp4eg.jpg\" title=\"source: imgur.com\"  Height = \"250\" width=\"350\" /></a>\n",
    "        </td>\n",
    "        <td>\n",
    "            <a href=\"https://imgur.com/A6KGpsn\"><img src=\"https://i.imgur.com/A6KGpsn.jpg\" title=\"source: imgur.com\" Height = \"250\" width=\"350\" /></a>\n",
    "        </td>\n",
    "    </tr>\n",
    "</table>\n",
    "\n",
    "\n"
   ]
  },
  {
   "cell_type": "code",
   "execution_count": 8,
   "metadata": {
    "azdata_cell_guid": "af13eabb-817a-4288-857c-4cb41c40eb59",
    "tags": []
   },
   "outputs": [
    {
     "data": {
      "text/html": [
       "(1 row affected)"
      ]
     },
     "metadata": {},
     "output_type": "display_data"
    },
    {
     "data": {
      "text/html": [
       "Total execution time: 00:00:00.040"
      ]
     },
     "metadata": {},
     "output_type": "display_data"
    },
    {
     "data": {
      "application/vnd.dataresource+json": {
       "data": [
        {
         "0": "Edvancer            ",
         "1": "20",
         "2": "8"
        }
       ],
       "schema": {
        "fields": [
         {
          "name": "Char"
         },
         {
          "name": "Datalength"
         },
         {
          "name": "Len"
         }
        ]
       }
      },
      "text/html": [
       "<table><tr><th>Char</th><th>Datalength</th><th>Len</th></tr><tr><td>Edvancer            </td><td>20</td><td>8</td></tr></table>"
      ]
     },
     "execution_count": 8,
     "metadata": {},
     "output_type": "execute_result"
    }
   ],
   "source": [
    "-- Character\n",
    "DECLARE @myChar CHAR(20) = 'PDI'\n",
    "SELECT @myChar AS Char, DATALENGTH (@myChar) as Datalength, LEN(@myChar) AS Len"
   ]
  },
  {
   "cell_type": "code",
   "execution_count": 9,
   "metadata": {
    "azdata_cell_guid": "178ce8c2-5ace-4054-adf9-7da75e513087",
    "tags": []
   },
   "outputs": [
    {
     "data": {
      "text/html": [
       "(1 row affected)"
      ]
     },
     "metadata": {},
     "output_type": "display_data"
    },
    {
     "data": {
      "text/html": [
       "Total execution time: 00:00:00.014"
      ]
     },
     "metadata": {},
     "output_type": "display_data"
    },
    {
     "data": {
      "application/vnd.dataresource+json": {
       "data": [
        {
         "0": "Edvancer",
         "1": "8",
         "2": "8"
        }
       ],
       "schema": {
        "fields": [
         {
          "name": "Varchar"
         },
         {
          "name": "Datalength"
         },
         {
          "name": "Len"
         }
        ]
       }
      },
      "text/html": [
       "<table><tr><th>Varchar</th><th>Datalength</th><th>Len</th></tr><tr><td>Edvancer</td><td>8</td><td>8</td></tr></table>"
      ]
     },
     "execution_count": 9,
     "metadata": {},
     "output_type": "execute_result"
    }
   ],
   "source": [
    "-- Varchar\n",
    "DECLARE @myChar VARCHAR(20) = 'PDI Lmtd'\n",
    "SELECT @myChar AS Varchar, DATALENGTH (@myChar) as Datalength, LEN(@myChar) AS Len"
   ]
  },
  {
   "cell_type": "markdown",
   "metadata": {
    "azdata_cell_guid": "d07b107f-7d42-49cb-bd8b-7f79e7f3f881"
   },
   "source": [
    "# Numeric Datatype\n",
    "\n",
    "<table>\n",
    "    <tr>\n",
    "        <td>\n",
    "            <a href=\"https://imgur.com/3LaZhsZ\"><img src=\"https://i.imgur.com/3LaZhsZ.jpg\" title=\"source: imgur.com\" Height = \"250\" width=\"350\"/></a>\n",
    "        </td>\n",
    "        <td>\n",
    "            <a href=\"https://imgur.com/UwyAX8u\"><img src=\"https://i.imgur.com/UwyAX8u.jpg\" title=\"source: imgur.com\" Height = \"250\" width=\"350\" /></a>\n",
    "        </td>\n",
    "        <td>\n",
    "            <a href=\"https://imgur.com/0QLcLq5\"><img src=\"https://i.imgur.com/0QLcLq5.jpg\" title=\"source: imgur.com\" Height = \"250\" width=\"350\" /></a>\n",
    "        </td>\n",
    "    </tr>\n",
    "</table>"
   ]
  },
  {
   "cell_type": "code",
   "execution_count": 10,
   "metadata": {
    "azdata_cell_guid": "c424750d-3dd1-4d13-a915-fbd9709bea20",
    "tags": []
   },
   "outputs": [
    {
     "data": {
      "text/html": [
       "(1 row affected)"
      ]
     },
     "metadata": {},
     "output_type": "display_data"
    },
    {
     "data": {
      "text/html": [
       "Total execution time: 00:00:00.024"
      ]
     },
     "metadata": {},
     "output_type": "display_data"
    },
    {
     "data": {
      "application/vnd.dataresource+json": {
       "data": [
        {
         "0": "12376.79"
        }
       ],
       "schema": {
        "fields": [
         {
          "name": "NumericData"
         }
        ]
       }
      },
      "text/html": [
       "<table><tr><th>NumericData</th></tr><tr><td>12376.79</td></tr></table>"
      ]
     },
     "execution_count": 10,
     "metadata": {},
     "output_type": "execute_result"
    }
   ],
   "source": [
    "DECLARE @num NUMERIC(7,2) = 12376.7854\n",
    "SELECT @num as NumericData"
   ]
  },
  {
   "cell_type": "code",
   "execution_count": 11,
   "metadata": {
    "azdata_cell_guid": "83fbe8b4-bc23-4239-a5b8-f4934d542360",
    "tags": []
   },
   "outputs": [
    {
     "data": {
      "text/html": [
       "(1 row affected)"
      ]
     },
     "metadata": {},
     "output_type": "display_data"
    },
    {
     "data": {
      "text/html": [
       "Total execution time: 00:00:00.023"
      ]
     },
     "metadata": {},
     "output_type": "display_data"
    },
    {
     "data": {
      "application/vnd.dataresource+json": {
       "data": [
        {
         "0": "12376"
        }
       ],
       "schema": {
        "fields": [
         {
          "name": "SmallIntData"
         }
        ]
       }
      },
      "text/html": [
       "<table><tr><th>SmallIntData</th></tr><tr><td>12376</td></tr></table>"
      ]
     },
     "execution_count": 11,
     "metadata": {},
     "output_type": "execute_result"
    }
   ],
   "source": [
    "DECLARE @SmallInt SMALLINT = 12376.7854\n",
    "SELECT @SmallInt AS SmallIntData"
   ]
  },
  {
   "cell_type": "code",
   "execution_count": 12,
   "metadata": {
    "azdata_cell_guid": "1f7898ac-be94-412a-825c-1e6630184335",
    "tags": []
   },
   "outputs": [
    {
     "data": {
      "text/html": [
       "Commands completed successfully."
      ]
     },
     "metadata": {},
     "output_type": "display_data"
    },
    {
     "data": {
      "text/html": [
       "Total execution time: 00:00:00.001"
      ]
     },
     "metadata": {},
     "output_type": "display_data"
    }
   ],
   "source": [
    "-- DECLARE @SmallInt SMALLINT = -32769 \n",
    "-- SELECT @SmallInt AS SmallIntData\n",
    "-----------------Errors when we un comment above and run codes\n",
    "-- if we give more/less than \n",
    "--affordable range it will gives an error\n",
    "--Msg 220, Level 16, State 1, Line 1\n",
    "--Arithmetic overflow error for data type smallint, value = -32769."
   ]
  },
  {
   "cell_type": "code",
   "execution_count": 13,
   "metadata": {
    "azdata_cell_guid": "9b3428c4-b36b-4675-838e-28a68c43b8a7",
    "tags": []
   },
   "outputs": [
    {
     "data": {
      "text/html": [
       "(1 row affected)"
      ]
     },
     "metadata": {},
     "output_type": "display_data"
    },
    {
     "data": {
      "text/html": [
       "Total execution time: 00:00:00.009"
      ]
     },
     "metadata": {},
     "output_type": "display_data"
    },
    {
     "data": {
      "application/vnd.dataresource+json": {
       "data": [
        {
         "0": "254"
        }
       ],
       "schema": {
        "fields": [
         {
          "name": "TinyIntData"
         }
        ]
       }
      },
      "text/html": [
       "<table><tr><th>TinyIntData</th></tr><tr><td>254</td></tr></table>"
      ]
     },
     "execution_count": 13,
     "metadata": {},
     "output_type": "execute_result"
    }
   ],
   "source": [
    "DECLARE @TinyInt SMALLINT = 254\n",
    "SELECT @TinyInt AS TinyIntData"
   ]
  },
  {
   "cell_type": "markdown",
   "metadata": {
    "azdata_cell_guid": "b711750f-25d1-48ea-911e-de5f800c7e00"
   },
   "source": [
    "<table>\n",
    "    <tr>\n",
    "        <td>\n",
    "            <a href=\"https://imgur.com/4gbEnje\"><img src=\"https://i.imgur.com/4gbEnje.jpg\" title=\"source: imgur.com\" Height = \"250\" width=\"350\"/></a>\n",
    "        </td>\n",
    "        <td>\n",
    "            <a href=\"https://imgur.com/M3gfFAN\"><img src=\"https://i.imgur.com/M3gfFAN.jpg\" title=\"source: imgur.com\" Height = \"250\" width=\"350\" /></a>\n",
    "        </td>\n",
    "    </tr>\n",
    "</table>"
   ]
  },
  {
   "cell_type": "code",
   "execution_count": 14,
   "metadata": {
    "azdata_cell_guid": "8ec9ee65-91ea-4228-9aa0-2d3a3a81ff0c",
    "tags": []
   },
   "outputs": [
    {
     "data": {
      "text/html": [
       "(1 row affected)"
      ]
     },
     "metadata": {},
     "output_type": "display_data"
    },
    {
     "data": {
      "text/html": [
       "Total execution time: 00:00:00.012"
      ]
     },
     "metadata": {},
     "output_type": "display_data"
    },
    {
     "data": {
      "application/vnd.dataresource+json": {
       "data": [
        {
         "0": "12376.785"
        }
       ],
       "schema": {
        "fields": [
         {
          "name": "FLOAT"
         }
        ]
       }
      },
      "text/html": [
       "<table><tr><th>FLOAT</th></tr><tr><td>12376.785</td></tr></table>"
      ]
     },
     "execution_count": 14,
     "metadata": {},
     "output_type": "execute_result"
    }
   ],
   "source": [
    "--Float\n",
    "DECLARE @float FLOAT(10) = 12376.7854\n",
    "SELECT @float as FLOAT\n"
   ]
  },
  {
   "cell_type": "code",
   "execution_count": 15,
   "metadata": {
    "azdata_cell_guid": "4e522468-5178-4660-be70-7fbc201ac577",
    "tags": []
   },
   "outputs": [
    {
     "data": {
      "text/html": [
       "(1 row affected)"
      ]
     },
     "metadata": {},
     "output_type": "display_data"
    },
    {
     "data": {
      "text/html": [
       "Total execution time: 00:00:00.007"
      ]
     },
     "metadata": {},
     "output_type": "display_data"
    },
    {
     "data": {
      "application/vnd.dataresource+json": {
       "data": [
        {
         "0": "12946.785"
        }
       ],
       "schema": {
        "fields": [
         {
          "name": "Result"
         }
        ]
       }
      },
      "text/html": [
       "<table><tr><th>Result</th></tr><tr><td>12946.785</td></tr></table>"
      ]
     },
     "execution_count": 15,
     "metadata": {},
     "output_type": "execute_result"
    }
   ],
   "source": [
    "--Data type precedence\n",
    "DECLARE @float1 FLOAT(10), @int INT\n",
    "SET @float1 = 12376.7854\n",
    "SET @int = 570\n",
    "SELECT @float1 + @int as Result"
   ]
  },
  {
   "cell_type": "markdown",
   "metadata": {
    "azdata_cell_guid": "35960561-94b1-49b8-8d4d-6e2e7438a8f3"
   },
   "source": [
    "# Filter the data using where"
   ]
  },
  {
   "cell_type": "markdown",
   "metadata": {
    "azdata_cell_guid": "81459037-3625-450c-ac8b-93661d1ffc48",
    "tags": []
   },
   "source": []
  },
  {
   "cell_type": "code",
   "execution_count": 9,
   "metadata": {
    "azdata_cell_guid": "66e8a856-62af-4764-a6ca-44686622562f",
    "tags": []
   },
   "outputs": [
    {
     "data": {
      "text/html": [
       "(10 rows affected)"
      ]
     },
     "metadata": {},
     "output_type": "display_data"
    },
    {
     "data": {
      "text/html": [
       "Total execution time: 00:00:00.195"
      ]
     },
     "metadata": {},
     "output_type": "display_data"
    },
    {
     "data": {
      "application/vnd.dataresource+json": {
       "data": [
        {
         "0": "1",
         "1": "295847284",
         "10": "1",
         "11": "99",
         "12": "69",
         "13": "1",
         "14": "f01251e5-96a3-448d-981e-0f99d789110d",
         "15": "2014-06-30 00:00:00.000",
         "2": "adventure-works\\ken0",
         "3": "NULL",
         "4": "NULL",
         "5": "Chief Executive Officer",
         "6": "1969-01-29",
         "7": "S",
         "8": "M",
         "9": "2009-01-14"
        },
        {
         "0": "4",
         "1": "112457891",
         "10": "0",
         "11": "48",
         "12": "80",
         "13": "1",
         "14": "59747955-87b8-443f-8ed4-f8ad3afdf3a9",
         "15": "2014-06-30 00:00:00.000",
         "2": "adventure-works\\rob0",
         "3": "0x5AD6",
         "4": "3",
         "5": "Senior Tool Designer",
         "6": "1974-12-23",
         "7": "S",
         "8": "M",
         "9": "2007-12-05"
        },
        {
         "0": "8",
         "1": "811994146",
         "10": "1",
         "11": "62",
         "12": "51",
         "13": "1",
         "14": "31112635-663b-4018-b4a2-a685c0bf48a4",
         "15": "2014-06-30 00:00:00.000",
         "2": "adventure-works\\diane1",
         "3": "0x5AE158",
         "4": "4",
         "5": "Research and Development Engineer",
         "6": "1986-06-05",
         "7": "S",
         "8": "F",
         "9": "2008-12-29"
        },
        {
         "0": "9",
         "1": "658797903",
         "10": "1",
         "11": "63",
         "12": "51",
         "13": "1",
         "14": "50b6cdc6-7570-47ef-9570-48a64b5f2ecf",
         "15": "2014-06-30 00:00:00.000",
         "2": "adventure-works\\gigi0",
         "3": "0x5AE168",
         "4": "4",
         "5": "Research and Development Engineer",
         "6": "1979-01-21",
         "7": "M",
         "8": "F",
         "9": "2009-01-16"
        },
        {
         "0": "10",
         "1": "879342154",
         "10": "1",
         "11": "16",
         "12": "64",
         "13": "1",
         "14": "eaa43680-5571-40cb-ab1a-3bf68f04459e",
         "15": "2014-06-30 00:00:00.000",
         "2": "adventure-works\\michael6",
         "3": "0x5AE178",
         "4": "4",
         "5": "Research and Development Manager",
         "6": "1984-11-30",
         "7": "M",
         "8": "M",
         "9": "2009-05-03"
        },
        {
         "0": "25",
         "1": "519899904",
         "10": "1",
         "11": "64",
         "12": "52",
         "13": "1",
         "14": "d7314f24-2af1-429c-9bbb-4038f45f3e6c",
         "15": "2014-06-30 00:00:00.000",
         "2": "adventure-works\\james1",
         "3": "0x78",
         "4": "1",
         "5": "Vice President of Production",
         "6": "1983-01-07",
         "7": "S",
         "8": "M",
         "9": "2009-02-03"
        },
        {
         "0": "27",
         "1": "446466105",
         "10": "0",
         "11": "80",
         "12": "60",
         "13": "1",
         "14": "83ffaac6-b895-481f-b897-14f965d4da47",
         "15": "2014-06-30 00:00:00.000",
         "2": "adventure-works\\jo0",
         "3": "0x7AD6",
         "4": "3",
         "5": "Production Supervisor - WC60",
         "6": "1956-10-08",
         "7": "S",
         "8": "F",
         "9": "2008-02-27"
        },
        {
         "0": "40",
         "1": "309738752",
         "10": "0",
         "11": "82",
         "12": "61",
         "13": "1",
         "14": "2cc71b96-f421-485e-9832-8723337749bb",
         "15": "2014-06-30 00:00:00.000",
         "2": "adventure-works\\jolynn0",
         "3": "0x7ADA",
         "4": "3",
         "5": "Production Supervisor - WC60",
         "6": "1956-01-16",
         "7": "S",
         "8": "F",
         "9": "2007-12-26"
        },
        {
         "0": "47",
         "1": "33237992",
         "10": "0",
         "11": "65",
         "12": "52",
         "13": "1",
         "14": "08365b05-c143-4260-a93c-6b69418b1946",
         "15": "2014-06-30 00:00:00.000",
         "2": "adventure-works\\andrew0",
         "3": "0x7ADE",
         "4": "3",
         "5": "Production Supervisor - WC10",
         "6": "1988-09-06",
         "7": "S",
         "8": "M",
         "9": "2009-02-22"
        },
        {
         "0": "48",
         "1": "690627818",
         "10": "0",
         "11": "83",
         "12": "61",
         "13": "1",
         "14": "3e3b6905-209e-442e-b8a8-9a0980241c6a",
         "15": "2014-06-30 00:00:00.000",
         "2": "adventure-works\\ruth0",
         "3": "0x7ADEB0",
         "4": "4",
         "5": "Production Technician - WC10",
         "6": "1956-06-04",
         "7": "M",
         "8": "F",
         "9": "2008-01-06"
        }
       ],
       "schema": {
        "fields": [
         {
          "name": "BusinessEntityID"
         },
         {
          "name": "NationalIDNumber"
         },
         {
          "name": "LoginID"
         },
         {
          "name": "OrganizationNode"
         },
         {
          "name": "OrganizationLevel"
         },
         {
          "name": "JobTitle"
         },
         {
          "name": "BirthDate"
         },
         {
          "name": "MaritalStatus"
         },
         {
          "name": "Gender"
         },
         {
          "name": "HireDate"
         },
         {
          "name": "SalariedFlag"
         },
         {
          "name": "VacationHours"
         },
         {
          "name": "SickLeaveHours"
         },
         {
          "name": "CurrentFlag"
         },
         {
          "name": "rowguid"
         },
         {
          "name": "ModifiedDate"
         }
        ]
       }
      },
      "text/html": [
       "<table><tr><th>BusinessEntityID</th><th>NationalIDNumber</th><th>LoginID</th><th>OrganizationNode</th><th>OrganizationLevel</th><th>JobTitle</th><th>BirthDate</th><th>MaritalStatus</th><th>Gender</th><th>HireDate</th><th>SalariedFlag</th><th>VacationHours</th><th>SickLeaveHours</th><th>CurrentFlag</th><th>rowguid</th><th>ModifiedDate</th></tr><tr><td>1</td><td>295847284</td><td>adventure-works\\ken0</td><td>NULL</td><td>NULL</td><td>Chief Executive Officer</td><td>1969-01-29</td><td>S</td><td>M</td><td>2009-01-14</td><td>1</td><td>99</td><td>69</td><td>1</td><td>f01251e5-96a3-448d-981e-0f99d789110d</td><td>2014-06-30 00:00:00.000</td></tr><tr><td>4</td><td>112457891</td><td>adventure-works\\rob0</td><td>0x5AD6</td><td>3</td><td>Senior Tool Designer</td><td>1974-12-23</td><td>S</td><td>M</td><td>2007-12-05</td><td>0</td><td>48</td><td>80</td><td>1</td><td>59747955-87b8-443f-8ed4-f8ad3afdf3a9</td><td>2014-06-30 00:00:00.000</td></tr><tr><td>8</td><td>811994146</td><td>adventure-works\\diane1</td><td>0x5AE158</td><td>4</td><td>Research and Development Engineer</td><td>1986-06-05</td><td>S</td><td>F</td><td>2008-12-29</td><td>1</td><td>62</td><td>51</td><td>1</td><td>31112635-663b-4018-b4a2-a685c0bf48a4</td><td>2014-06-30 00:00:00.000</td></tr><tr><td>9</td><td>658797903</td><td>adventure-works\\gigi0</td><td>0x5AE168</td><td>4</td><td>Research and Development Engineer</td><td>1979-01-21</td><td>M</td><td>F</td><td>2009-01-16</td><td>1</td><td>63</td><td>51</td><td>1</td><td>50b6cdc6-7570-47ef-9570-48a64b5f2ecf</td><td>2014-06-30 00:00:00.000</td></tr><tr><td>10</td><td>879342154</td><td>adventure-works\\michael6</td><td>0x5AE178</td><td>4</td><td>Research and Development Manager</td><td>1984-11-30</td><td>M</td><td>M</td><td>2009-05-03</td><td>1</td><td>16</td><td>64</td><td>1</td><td>eaa43680-5571-40cb-ab1a-3bf68f04459e</td><td>2014-06-30 00:00:00.000</td></tr><tr><td>25</td><td>519899904</td><td>adventure-works\\james1</td><td>0x78</td><td>1</td><td>Vice President of Production</td><td>1983-01-07</td><td>S</td><td>M</td><td>2009-02-03</td><td>1</td><td>64</td><td>52</td><td>1</td><td>d7314f24-2af1-429c-9bbb-4038f45f3e6c</td><td>2014-06-30 00:00:00.000</td></tr><tr><td>27</td><td>446466105</td><td>adventure-works\\jo0</td><td>0x7AD6</td><td>3</td><td>Production Supervisor - WC60</td><td>1956-10-08</td><td>S</td><td>F</td><td>2008-02-27</td><td>0</td><td>80</td><td>60</td><td>1</td><td>83ffaac6-b895-481f-b897-14f965d4da47</td><td>2014-06-30 00:00:00.000</td></tr><tr><td>40</td><td>309738752</td><td>adventure-works\\jolynn0</td><td>0x7ADA</td><td>3</td><td>Production Supervisor - WC60</td><td>1956-01-16</td><td>S</td><td>F</td><td>2007-12-26</td><td>0</td><td>82</td><td>61</td><td>1</td><td>2cc71b96-f421-485e-9832-8723337749bb</td><td>2014-06-30 00:00:00.000</td></tr><tr><td>47</td><td>33237992</td><td>adventure-works\\andrew0</td><td>0x7ADE</td><td>3</td><td>Production Supervisor - WC10</td><td>1988-09-06</td><td>S</td><td>M</td><td>2009-02-22</td><td>0</td><td>65</td><td>52</td><td>1</td><td>08365b05-c143-4260-a93c-6b69418b1946</td><td>2014-06-30 00:00:00.000</td></tr><tr><td>48</td><td>690627818</td><td>adventure-works\\ruth0</td><td>0x7ADEB0</td><td>4</td><td>Production Technician - WC10</td><td>1956-06-04</td><td>M</td><td>F</td><td>2008-01-06</td><td>0</td><td>83</td><td>61</td><td>1</td><td>3e3b6905-209e-442e-b8a8-9a0980241c6a</td><td>2014-06-30 00:00:00.000</td></tr></table>"
      ]
     },
     "execution_count": 9,
     "metadata": {},
     "output_type": "execute_result"
    }
   ],
   "source": [
    "USE AdventureWorks2014;\n",
    "SELECT TOP 10 * FROM AdventureWorks2014.HumanResources.Employee WHERE SickLeaveHours > 50;\n"
   ]
  },
  {
   "cell_type": "code",
   "execution_count": 10,
   "metadata": {
    "azdata_cell_guid": "df235edb-09a5-4681-b449-db18b8bad9ba",
    "tags": []
   },
   "outputs": [
    {
     "data": {
      "text/html": [
       "(10 rows affected)"
      ]
     },
     "metadata": {},
     "output_type": "display_data"
    },
    {
     "data": {
      "text/html": [
       "Total execution time: 00:00:00.021"
      ]
     },
     "metadata": {},
     "output_type": "display_data"
    },
    {
     "data": {
      "application/vnd.dataresource+json": {
       "data": [
        {
         "0": "10",
         "1": "SuperiorCard",
         "2": "33332126386493",
         "3": "8",
         "4": "2008",
         "5": "2011-08-31 00:00:00.000"
        },
        {
         "0": "11",
         "1": "SuperiorCard",
         "2": "33335352517363",
         "3": "10",
         "4": "2008",
         "5": "2014-05-04 00:00:00.000"
        },
        {
         "0": "12",
         "1": "SuperiorCard",
         "2": "33334316194519",
         "3": "4",
         "4": "2008",
         "5": "2012-05-30 00:00:00.000"
        },
        {
         "0": "15",
         "1": "SuperiorCard",
         "2": "33336866065599",
         "3": "11",
         "4": "2008",
         "5": "2013-01-29 00:00:00.000"
        },
        {
         "0": "17",
         "1": "ColonialVoice",
         "2": "77771220960729",
         "3": "8",
         "4": "2008",
         "5": "2014-01-16 00:00:00.000"
        },
        {
         "0": "26",
         "1": "Distinguish",
         "2": "55554195847998",
         "3": "11",
         "4": "2008",
         "5": "2013-08-27 00:00:00.000"
        },
        {
         "0": "27",
         "1": "SuperiorCard",
         "2": "33333837392825",
         "3": "12",
         "4": "2008",
         "5": "2013-11-11 00:00:00.000"
        },
        {
         "0": "31",
         "1": "Vista",
         "2": "11112040199986",
         "3": "10",
         "4": "2008",
         "5": "2009-01-15 00:00:00.000"
        },
        {
         "0": "38",
         "1": "Distinguish",
         "2": "55555420711099",
         "3": "7",
         "4": "2008",
         "5": "2013-09-24 00:00:00.000"
        },
        {
         "0": "40",
         "1": "Distinguish",
         "2": "55555841603354",
         "3": "4",
         "4": "2008",
         "5": "2013-08-25 00:00:00.000"
        }
       ],
       "schema": {
        "fields": [
         {
          "name": "CreditCardID"
         },
         {
          "name": "CardType"
         },
         {
          "name": "CardNumber"
         },
         {
          "name": "ExpMonth"
         },
         {
          "name": "ExpYear"
         },
         {
          "name": "ModifiedDate"
         }
        ]
       }
      },
      "text/html": [
       "<table><tr><th>CreditCardID</th><th>CardType</th><th>CardNumber</th><th>ExpMonth</th><th>ExpYear</th><th>ModifiedDate</th></tr><tr><td>10</td><td>SuperiorCard</td><td>33332126386493</td><td>8</td><td>2008</td><td>2011-08-31 00:00:00.000</td></tr><tr><td>11</td><td>SuperiorCard</td><td>33335352517363</td><td>10</td><td>2008</td><td>2014-05-04 00:00:00.000</td></tr><tr><td>12</td><td>SuperiorCard</td><td>33334316194519</td><td>4</td><td>2008</td><td>2012-05-30 00:00:00.000</td></tr><tr><td>15</td><td>SuperiorCard</td><td>33336866065599</td><td>11</td><td>2008</td><td>2013-01-29 00:00:00.000</td></tr><tr><td>17</td><td>ColonialVoice</td><td>77771220960729</td><td>8</td><td>2008</td><td>2014-01-16 00:00:00.000</td></tr><tr><td>26</td><td>Distinguish</td><td>55554195847998</td><td>11</td><td>2008</td><td>2013-08-27 00:00:00.000</td></tr><tr><td>27</td><td>SuperiorCard</td><td>33333837392825</td><td>12</td><td>2008</td><td>2013-11-11 00:00:00.000</td></tr><tr><td>31</td><td>Vista</td><td>11112040199986</td><td>10</td><td>2008</td><td>2009-01-15 00:00:00.000</td></tr><tr><td>38</td><td>Distinguish</td><td>55555420711099</td><td>7</td><td>2008</td><td>2013-09-24 00:00:00.000</td></tr><tr><td>40</td><td>Distinguish</td><td>55555841603354</td><td>4</td><td>2008</td><td>2013-08-25 00:00:00.000</td></tr></table>"
      ]
     },
     "execution_count": 10,
     "metadata": {},
     "output_type": "execute_result"
    }
   ],
   "source": [
    "SELECT TOP 10 * FROM Sales.CreditCard WHERE ExpYear = 2008;"
   ]
  },
  {
   "cell_type": "code",
   "execution_count": 17,
   "metadata": {
    "azdata_cell_guid": "77641d4f-7584-402b-b3f8-b903d1638477",
    "tags": []
   },
   "outputs": [
    {
     "data": {
      "text/html": [
       "Commands completed successfully."
      ]
     },
     "metadata": {},
     "output_type": "display_data"
    },
    {
     "data": {
      "text/html": [
       "Total execution time: 00:00:00.001"
      ]
     },
     "metadata": {},
     "output_type": "display_data"
    }
   ],
   "source": [
    "USE Training"
   ]
  },
  {
   "cell_type": "code",
   "execution_count": 18,
   "metadata": {
    "azdata_cell_guid": "d0342d31-a6f3-4dea-9d48-a15605f4bbac",
    "tags": []
   },
   "outputs": [
    {
     "data": {
      "text/html": [
       "(10 rows affected)"
      ]
     },
     "metadata": {},
     "output_type": "display_data"
    },
    {
     "data": {
      "text/html": [
       "Total execution time: 00:00:00.010"
      ]
     },
     "metadata": {},
     "output_type": "display_data"
    },
    {
     "data": {
      "application/vnd.dataresource+json": {
       "data": [
        {
         "0": "1",
         "1": "AR-5381",
         "2": "Adjustable Race",
         "3": "Black"
        },
        {
         "0": "2",
         "1": "BA-8327",
         "2": "Bearing Ball",
         "3": "Silver"
        },
        {
         "0": "3",
         "1": "BE-2349",
         "2": "BB Ball Bearing",
         "3": "Grey"
        },
        {
         "0": "4",
         "1": "BE-2908",
         "2": "Headset Ball Bearings",
         "3": "Black"
        },
        {
         "0": "5",
         "1": "BL-2036",
         "2": "Blade",
         "3": "Grey"
        },
        {
         "0": "6",
         "1": "CA-5965",
         "2": "LL Crankarm",
         "3": "Grey"
        },
        {
         "0": "7",
         "1": "CA-6738",
         "2": "ML Crankarm",
         "3": "Silver"
        },
        {
         "0": "8",
         "1": "CA-7457",
         "2": "HL Crankarm",
         "3": "Silver"
        },
        {
         "0": "9",
         "1": "CB-2903",
         "2": "Chainring Bolts",
         "3": "Silver"
        },
        {
         "0": "10",
         "1": "CN-6137",
         "2": "Chainring Nut",
         "3": "Grey"
        }
       ],
       "schema": {
        "fields": [
         {
          "name": "ProductID"
         },
         {
          "name": "ProductCode"
         },
         {
          "name": "ProductDescription"
         },
         {
          "name": "color"
         }
        ]
       }
      },
      "text/html": [
       "<table><tr><th>ProductID</th><th>ProductCode</th><th>ProductDescription</th><th>color</th></tr><tr><td>1</td><td>AR-5381</td><td>Adjustable Race</td><td>Black</td></tr><tr><td>2</td><td>BA-8327</td><td>Bearing Ball</td><td>Silver</td></tr><tr><td>3</td><td>BE-2349</td><td>BB Ball Bearing</td><td>Grey</td></tr><tr><td>4</td><td>BE-2908</td><td>Headset Ball Bearings</td><td>Black</td></tr><tr><td>5</td><td>BL-2036</td><td>Blade</td><td>Grey</td></tr><tr><td>6</td><td>CA-5965</td><td>LL Crankarm</td><td>Grey</td></tr><tr><td>7</td><td>CA-6738</td><td>ML Crankarm</td><td>Silver</td></tr><tr><td>8</td><td>CA-7457</td><td>HL Crankarm</td><td>Silver</td></tr><tr><td>9</td><td>CB-2903</td><td>Chainring Bolts</td><td>Silver</td></tr><tr><td>10</td><td>CN-6137</td><td>Chainring Nut</td><td>Grey</td></tr></table>"
      ]
     },
     "execution_count": 18,
     "metadata": {},
     "output_type": "execute_result"
    }
   ],
   "source": [
    "-- selecting products table\n",
    "SELECT * FROM products;"
   ]
  },
  {
   "cell_type": "code",
   "execution_count": 19,
   "metadata": {
    "azdata_cell_guid": "c9177609-3c86-47d7-93d4-a070b61f09ed",
    "tags": []
   },
   "outputs": [
    {
     "data": {
      "text/html": [
       "(12 rows affected)"
      ]
     },
     "metadata": {},
     "output_type": "display_data"
    },
    {
     "data": {
      "text/html": [
       "Total execution time: 00:00:00.009"
      ]
     },
     "metadata": {},
     "output_type": "display_data"
    },
    {
     "data": {
      "application/vnd.dataresource+json": {
       "data": [
        {
         "0": "1",
         "1": "ADI",
         "2": "Ahmedabad",
         "3": "High",
         "4": "1"
        },
        {
         "0": "2",
         "1": "BLR",
         "2": "Bangalore",
         "3": "High",
         "4": "1"
        },
        {
         "0": "3",
         "1": "CHD",
         "2": "Chandigarh",
         "3": "Low",
         "4": "1"
        },
        {
         "0": "4",
         "1": "CHN",
         "2": "Chennai",
         "3": "High",
         "4": "1"
        },
        {
         "0": "5",
         "1": "DDN",
         "2": "Dehradun",
         "3": "Medium",
         "4": "1"
        },
        {
         "0": "6",
         "1": "DEL",
         "2": "Delhi",
         "3": "High",
         "4": "1"
        },
        {
         "0": "7",
         "1": "JPR",
         "2": "Jaipur",
         "3": "Medium",
         "4": "1"
        },
        {
         "0": "8",
         "1": "KOL",
         "2": "Kolkata",
         "3": "High",
         "4": "1"
        },
        {
         "0": "9",
         "1": "MUM",
         "2": "Mumbai",
         "3": "High",
         "4": "1"
        },
        {
         "0": "10",
         "1": "MYS",
         "2": "Mysore",
         "3": "Low",
         "4": "1"
        },
        {
         "0": "11",
         "1": "PDY",
         "2": "Puducherry",
         "3": "Low",
         "4": "1"
        },
        {
         "0": "12",
         "1": "RNC",
         "2": "Ranchi",
         "3": "Medium",
         "4": "1"
        }
       ],
       "schema": {
        "fields": [
         {
          "name": "CityID"
         },
         {
          "name": "CityCode"
         },
         {
          "name": "CityName"
         },
         {
          "name": "PopulationDensity"
         },
         {
          "name": "sampleColumn"
         }
        ]
       }
      },
      "text/html": [
       "<table><tr><th>CityID</th><th>CityCode</th><th>CityName</th><th>PopulationDensity</th><th>sampleColumn</th></tr><tr><td>1</td><td>ADI</td><td>Ahmedabad</td><td>High</td><td>1</td></tr><tr><td>2</td><td>BLR</td><td>Bangalore</td><td>High</td><td>1</td></tr><tr><td>3</td><td>CHD</td><td>Chandigarh</td><td>Low</td><td>1</td></tr><tr><td>4</td><td>CHN</td><td>Chennai</td><td>High</td><td>1</td></tr><tr><td>5</td><td>DDN</td><td>Dehradun</td><td>Medium</td><td>1</td></tr><tr><td>6</td><td>DEL</td><td>Delhi</td><td>High</td><td>1</td></tr><tr><td>7</td><td>JPR</td><td>Jaipur</td><td>Medium</td><td>1</td></tr><tr><td>8</td><td>KOL</td><td>Kolkata</td><td>High</td><td>1</td></tr><tr><td>9</td><td>MUM</td><td>Mumbai</td><td>High</td><td>1</td></tr><tr><td>10</td><td>MYS</td><td>Mysore</td><td>Low</td><td>1</td></tr><tr><td>11</td><td>PDY</td><td>Puducherry</td><td>Low</td><td>1</td></tr><tr><td>12</td><td>RNC</td><td>Ranchi</td><td>Medium</td><td>1</td></tr></table>"
      ]
     },
     "execution_count": 19,
     "metadata": {},
     "output_type": "execute_result"
    }
   ],
   "source": [
    "-- selecting city table\n",
    "SELECT * FROM city;"
   ]
  },
  {
   "cell_type": "code",
   "execution_count": 28,
   "metadata": {
    "azdata_cell_guid": "c825ca35-b352-41a2-9ec9-db6e62f6c3e5",
    "tags": []
   },
   "outputs": [
    {
     "data": {
      "text/html": [
       "(12 rows affected)"
      ]
     },
     "metadata": {},
     "output_type": "display_data"
    },
    {
     "data": {
      "text/html": [
       "Total execution time: 00:00:00.032"
      ]
     },
     "metadata": {},
     "output_type": "display_data"
    },
    {
     "data": {
      "application/vnd.dataresource+json": {
       "data": [
        {
         "0": "1",
         "1": "ADI",
         "2": "Ahmedabad",
         "3": "High",
         "4": "1"
        },
        {
         "0": "2",
         "1": "BLR",
         "2": "Bangalore",
         "3": "High",
         "4": "1"
        },
        {
         "0": "3",
         "1": "CHD",
         "2": "Chandigarh",
         "3": "Low",
         "4": "1"
        },
        {
         "0": "4",
         "1": "CHN",
         "2": "Chennai",
         "3": "High",
         "4": "1"
        },
        {
         "0": "5",
         "1": "DDN",
         "2": "Dehradun",
         "3": "Medium",
         "4": "1"
        },
        {
         "0": "6",
         "1": "DEL",
         "2": "Delhi",
         "3": "High",
         "4": "1"
        },
        {
         "0": "7",
         "1": "JPR",
         "2": "Jaipur",
         "3": "Medium",
         "4": "1"
        },
        {
         "0": "8",
         "1": "KOL",
         "2": "Kolkata",
         "3": "High",
         "4": "1"
        },
        {
         "0": "9",
         "1": "MUM",
         "2": "Mumbai",
         "3": "High",
         "4": "1"
        },
        {
         "0": "10",
         "1": "MYS",
         "2": "Mysore",
         "3": "Low",
         "4": "1"
        },
        {
         "0": "11",
         "1": "PDY",
         "2": "Puducherry",
         "3": "Low",
         "4": "1"
        },
        {
         "0": "12",
         "1": "RNC",
         "2": "Ranchi",
         "3": "Medium",
         "4": "1"
        }
       ],
       "schema": {
        "fields": [
         {
          "name": "CityID"
         },
         {
          "name": "CityCode"
         },
         {
          "name": "CityName"
         },
         {
          "name": "PopulationDensity"
         },
         {
          "name": "sampleColumn"
         }
        ]
       }
      },
      "text/html": [
       "<table><tr><th>CityID</th><th>CityCode</th><th>CityName</th><th>PopulationDensity</th><th>sampleColumn</th></tr><tr><td>1</td><td>ADI</td><td>Ahmedabad</td><td>High</td><td>1</td></tr><tr><td>2</td><td>BLR</td><td>Bangalore</td><td>High</td><td>1</td></tr><tr><td>3</td><td>CHD</td><td>Chandigarh</td><td>Low</td><td>1</td></tr><tr><td>4</td><td>CHN</td><td>Chennai</td><td>High</td><td>1</td></tr><tr><td>5</td><td>DDN</td><td>Dehradun</td><td>Medium</td><td>1</td></tr><tr><td>6</td><td>DEL</td><td>Delhi</td><td>High</td><td>1</td></tr><tr><td>7</td><td>JPR</td><td>Jaipur</td><td>Medium</td><td>1</td></tr><tr><td>8</td><td>KOL</td><td>Kolkata</td><td>High</td><td>1</td></tr><tr><td>9</td><td>MUM</td><td>Mumbai</td><td>High</td><td>1</td></tr><tr><td>10</td><td>MYS</td><td>Mysore</td><td>Low</td><td>1</td></tr><tr><td>11</td><td>PDY</td><td>Puducherry</td><td>Low</td><td>1</td></tr><tr><td>12</td><td>RNC</td><td>Ranchi</td><td>Medium</td><td>1</td></tr></table>"
      ]
     },
     "execution_count": 28,
     "metadata": {},
     "output_type": "execute_result"
    }
   ],
   "source": [
    "SELECT * from City;"
   ]
  },
  {
   "cell_type": "code",
   "execution_count": 47,
   "metadata": {
    "azdata_cell_guid": "064d86e9-15ca-435c-a161-3cbdf665fff3",
    "tags": []
   },
   "outputs": [
    {
     "data": {
      "text/html": [
       "Commands completed successfully."
      ]
     },
     "metadata": {},
     "output_type": "display_data"
    },
    {
     "data": {
      "text/html": [
       "Total execution time: 00:00:00.007"
      ]
     },
     "metadata": {},
     "output_type": "display_data"
    }
   ],
   "source": [
    "Use Training;"
   ]
  },
  {
   "cell_type": "code",
   "execution_count": 57,
   "metadata": {
    "azdata_cell_guid": "5bbe5240-984e-4ec7-a6d4-860e3f81ff52",
    "tags": []
   },
   "outputs": [
    {
     "data": {
      "text/html": [
       "(6 rows affected)"
      ]
     },
     "metadata": {},
     "output_type": "display_data"
    },
    {
     "data": {
      "text/html": [
       "Total execution time: 00:00:00.050"
      ]
     },
     "metadata": {},
     "output_type": "display_data"
    },
    {
     "data": {
      "application/vnd.dataresource+json": {
       "data": [
        {
         "0": "1",
         "1": "ADI",
         "2": "Ahmedabad",
         "3": "High",
         "4": "1"
        },
        {
         "0": "2",
         "1": "BLR",
         "2": "Bangalore",
         "3": "High",
         "4": "1"
        },
        {
         "0": "4",
         "1": "CHN",
         "2": "Chennai",
         "3": "High",
         "4": "1"
        },
        {
         "0": "6",
         "1": "DEL",
         "2": "Delhi",
         "3": "High",
         "4": "1"
        },
        {
         "0": "8",
         "1": "KOL",
         "2": "Kolkata",
         "3": "High",
         "4": "1"
        },
        {
         "0": "9",
         "1": "MUM",
         "2": "Mumbai",
         "3": "High",
         "4": "1"
        }
       ],
       "schema": {
        "fields": [
         {
          "name": "CityID"
         },
         {
          "name": "CityCode"
         },
         {
          "name": "CityName"
         },
         {
          "name": "PopulationDensity"
         },
         {
          "name": "sampleColumn"
         }
        ]
       }
      },
      "text/html": [
       "<table><tr><th>CityID</th><th>CityCode</th><th>CityName</th><th>PopulationDensity</th><th>sampleColumn</th></tr><tr><td>1</td><td>ADI</td><td>Ahmedabad</td><td>High</td><td>1</td></tr><tr><td>2</td><td>BLR</td><td>Bangalore</td><td>High</td><td>1</td></tr><tr><td>4</td><td>CHN</td><td>Chennai</td><td>High</td><td>1</td></tr><tr><td>6</td><td>DEL</td><td>Delhi</td><td>High</td><td>1</td></tr><tr><td>8</td><td>KOL</td><td>Kolkata</td><td>High</td><td>1</td></tr><tr><td>9</td><td>MUM</td><td>Mumbai</td><td>High</td><td>1</td></tr></table>"
      ]
     },
     "execution_count": 57,
     "metadata": {},
     "output_type": "execute_result"
    }
   ],
   "source": [
    "SELECT * \n",
    "from City where populationDensity = 'High';\n"
   ]
  },
  {
   "cell_type": "code",
   "execution_count": 52,
   "metadata": {
    "azdata_cell_guid": "1c141a8b-e26f-4c7d-9a12-1db4cf855e1c",
    "tags": []
   },
   "outputs": [
    {
     "data": {
      "text/html": [
       "(6 rows affected)"
      ]
     },
     "metadata": {},
     "output_type": "display_data"
    },
    {
     "data": {
      "text/html": [
       "Total execution time: 00:00:00.007"
      ]
     },
     "metadata": {},
     "output_type": "display_data"
    },
    {
     "data": {
      "application/vnd.dataresource+json": {
       "data": [
        {
         "0": "1",
         "1": "ADI",
         "2": "Ahmedabad",
         "3": "High",
         "4": "1"
        },
        {
         "0": "2",
         "1": "BLR",
         "2": "Bangalore",
         "3": "High",
         "4": "1"
        },
        {
         "0": "4",
         "1": "CHN",
         "2": "Chennai",
         "3": "High",
         "4": "1"
        },
        {
         "0": "6",
         "1": "DEL",
         "2": "Delhi",
         "3": "High",
         "4": "1"
        },
        {
         "0": "8",
         "1": "KOL",
         "2": "Kolkata",
         "3": "High",
         "4": "1"
        },
        {
         "0": "9",
         "1": "MUM",
         "2": "Mumbai",
         "3": "High",
         "4": "1"
        }
       ],
       "schema": {
        "fields": [
         {
          "name": "CityID"
         },
         {
          "name": "CityCode"
         },
         {
          "name": "CityName"
         },
         {
          "name": "PopulationDensity"
         },
         {
          "name": "sampleColumn"
         }
        ]
       }
      },
      "text/html": [
       "<table><tr><th>CityID</th><th>CityCode</th><th>CityName</th><th>PopulationDensity</th><th>sampleColumn</th></tr><tr><td>1</td><td>ADI</td><td>Ahmedabad</td><td>High</td><td>1</td></tr><tr><td>2</td><td>BLR</td><td>Bangalore</td><td>High</td><td>1</td></tr><tr><td>4</td><td>CHN</td><td>Chennai</td><td>High</td><td>1</td></tr><tr><td>6</td><td>DEL</td><td>Delhi</td><td>High</td><td>1</td></tr><tr><td>8</td><td>KOL</td><td>Kolkata</td><td>High</td><td>1</td></tr><tr><td>9</td><td>MUM</td><td>Mumbai</td><td>High</td><td>1</td></tr></table>"
      ]
     },
     "execution_count": 52,
     "metadata": {},
     "output_type": "execute_result"
    }
   ],
   "source": [
    "SELECT *\n",
    "  FROM City WHERE PopulationDensity = 'High'"
   ]
  },
  {
   "cell_type": "markdown",
   "metadata": {
    "azdata_cell_guid": "40214dbf-376a-4c9c-8192-5b1c8ce1371b"
   },
   "source": []
  },
  {
   "cell_type": "code",
   "execution_count": 1,
   "metadata": {
    "azdata_cell_guid": "b88163d1-632d-42c3-abec-c8c43f63cc8c",
    "tags": []
   },
   "outputs": [
    {
     "ename": "",
     "evalue": "Msg 208, Level 16, State 1, Line 1\r\nInvalid object name 'EDW.F_COLLISIONS'.",
     "output_type": "error",
     "traceback": []
    },
    {
     "data": {
      "text/html": [
       "Total execution time: 00:00:00.032"
      ]
     },
     "metadata": {},
     "output_type": "display_data"
    }
   ],
   "source": [
    "SELECT\n",
    "  MIN([DATE_KEY]) AS [MIN_DATE],\n",
    "  MAX([DATE_KEY]) AS [MAX_DATE],\n",
    "  DATEDIFF(YEAR, MIN([DATE_KEY]), MAX([DATE_KEY])) [SPAN_IN_YEARS]\n",
    "FROM [EDW].[F_COLLISIONS]"
   ]
  },
  {
   "cell_type": "code",
   "execution_count": 3,
   "metadata": {
    "azdata_cell_guid": "6fe8a913-e997-450f-bb62-24858e9cceca",
    "tags": []
   },
   "outputs": [
    {
     "data": {
      "text/html": [
       "(1 row affected)"
      ]
     },
     "metadata": {},
     "output_type": "display_data"
    },
    {
     "data": {
      "text/html": [
       "Total execution time: 00:00:00.024"
      ]
     },
     "metadata": {},
     "output_type": "display_data"
    },
    {
     "data": {
      "application/vnd.dataresource+json": {
       "data": [
        {
         "0": "2016-02-02"
        }
       ],
       "schema": {
        "fields": [
         {
          "name": "MyDate"
         }
        ]
       }
      },
      "text/html": [
       "<table><tr><th>MyDate</th></tr><tr><td>2016-02-02</td></tr></table>"
      ]
     },
     "execution_count": 3,
     "metadata": {},
     "output_type": "execute_result"
    }
   ],
   "source": [
    "DECLARE @myDate date = '02-02-2016';\n",
    "SELECT @myDate as MyDate;"
   ]
  },
  {
   "cell_type": "code",
   "execution_count": 4,
   "metadata": {
    "azdata_cell_guid": "c5dd6eee-8efb-47c7-a23f-b3b246f4c1f3",
    "tags": []
   },
   "outputs": [
    {
     "data": {
      "text/html": [
       "(1 row affected)"
      ]
     },
     "metadata": {},
     "output_type": "display_data"
    },
    {
     "data": {
      "text/html": [
       "Total execution time: 00:00:00.072"
      ]
     },
     "metadata": {},
     "output_type": "display_data"
    },
    {
     "data": {
      "application/vnd.dataresource+json": {
       "data": [
        {
         "0": "2016-02-02 00:00:00.000"
        }
       ],
       "schema": {
        "fields": [
         {
          "name": "MyDate"
         }
        ]
       }
      },
      "text/html": [
       "<table><tr><th>MyDate</th></tr><tr><td>2016-02-02 00:00:00.000</td></tr></table>"
      ]
     },
     "execution_count": 4,
     "metadata": {},
     "output_type": "execute_result"
    }
   ],
   "source": [
    "DECLARE @myDate datetime = '02-02-2016';\n",
    "SELECT @myDate as MyDate;\n"
   ]
  },
  {
   "cell_type": "markdown",
   "metadata": {
    "azdata_cell_guid": "7e11e3ec-6507-4178-a8ea-65c14497ff5d"
   },
   "source": [
    "![](https://i.postimg.cc/5tbC1xpX/screenshot-32.png)"
   ]
  }
 ],
 "metadata": {
  "hide_input": false,
  "jupytext": {
   "formats": "ipynb,md"
  },
  "kernelspec": {
   "display_name": "SQL",
   "language": "sql",
   "name": "SQL"
  },
  "language_info": {
   "name": "sql",
   "version": ""
  },
  "latex_envs": {
   "LaTeX_envs_menu_present": true,
   "autoclose": false,
   "autocomplete": true,
   "bibliofile": "biblio.bib",
   "cite_by": "apalike",
   "current_citInitial": 1,
   "eqLabelWithNumbers": true,
   "eqNumInitial": 1,
   "hotkeys": {
    "equation": "Ctrl-E",
    "itemize": "Ctrl-I"
   },
   "labels_anchors": false,
   "latex_user_defs": false,
   "report_style_numbering": false,
   "user_envs_cfg": false
  },
  "toc": {
   "base_numbering": 1,
   "nav_menu": {},
   "number_sections": true,
   "sideBar": true,
   "skip_h1_title": false,
   "title_cell": "Table of Contents",
   "title_sidebar": "Contents",
   "toc_cell": false,
   "toc_position": {},
   "toc_section_display": true,
   "toc_window_display": false
  },
  "varInspector": {
   "cols": {
    "lenName": 16,
    "lenType": 16,
    "lenVar": 40
   },
   "kernels_config": {
    "python": {
     "delete_cmd_postfix": "",
     "delete_cmd_prefix": "del ",
     "library": "var_list.py",
     "varRefreshCmd": "print(var_dic_list())"
    },
    "r": {
     "delete_cmd_postfix": ") ",
     "delete_cmd_prefix": "rm(",
     "library": "var_list.r",
     "varRefreshCmd": "cat(var_dic_list()) "
    }
   },
   "types_to_exclude": [
    "module",
    "function",
    "builtin_function_or_method",
    "instance",
    "_Feature"
   ],
   "window_display": false
  }
 },
 "nbformat": 4,
 "nbformat_minor": 4
}

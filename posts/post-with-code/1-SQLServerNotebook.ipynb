{
  "cells": [
    {
      "cell_type": "raw",
      "metadata": {},
      "source": [
        "---\n",
        "title: <sub>All Tools Combinations applied in this post for Data Science</sub>\n",
        "listing:\n",
        "  contents: posts\n",
        "  type: default\n",
        "author: Sumendar\n",
        "date: '2023-03-10'\n",
        "categories:\n",
        "  - news\n",
        "  - code\n",
        "  - analysis\n",
        "---"
      ],
      "id": "de53dc68"
    },
    {
      "cell_type": "code",
      "metadata": {
        "azdata_cell_guid": "cf4b28e8-2941-4bc7-862e-121670381d2c",
        "tags": []
      },
      "source": [
        "USE salesdb;"
      ],
      "id": "0ecaef73",
      "execution_count": null,
      "outputs": []
    },
    {
      "cell_type": "code",
      "metadata": {
        "azdata_cell_guid": "e00ec3dc-ddd7-4053-a0ea-c9a3e4a8a27f",
        "tags": []
      },
      "source": [
        "SELECT TOP 15 * FROM Customers;"
      ],
      "id": "9540c2b5",
      "execution_count": null,
      "outputs": []
    },
    {
      "cell_type": "code",
      "metadata": {
        "azdata_cell_guid": "0cd776af-37e5-4266-acdb-53352e05d555",
        "tags": []
      },
      "source": [
        "--https://docs.microsoft.com/en-us/sql/azure-data-studio/notebooks/notebooks-sql-kernel\n",
        "--SELECT distinct Title FROM Person.Person\n",
        "--SELECT distinct Type, Category FROM Sales.SpecialOffer"
      ],
      "id": "43eb8fc8",
      "execution_count": null,
      "outputs": []
    },
    {
      "cell_type": "code",
      "metadata": {
        "azdata_cell_guid": "8e0b39b5-3783-43aa-a0ab-fc1823832721",
        "tags": []
      },
      "source": [
        "SELECT distinct size, color from Production.Product"
      ],
      "id": "49de6c39",
      "execution_count": null,
      "outputs": []
    },
    {
      "cell_type": "markdown",
      "metadata": {},
      "source": [
        "# SQL Server Coding (Direct copied from Azure Data Studion After executing output got there then pasted here)\n",
        "\n",
        "# Data Types\n",
        "\n",
        "![Imgur](https://i.imgur.com/Q2k1r4W.jpg)\n",
        "\n",
        "# Date Datatype\n"
      ],
      "id": "6390782d"
    },
    {
      "cell_type": "code",
      "metadata": {
        "azdata_cell_guid": "10a33a62-8f80-4fa8-9e49-b5d91169448f",
        "tags": []
      },
      "source": [
        "Declare @myDate date = '02-02-2016'\n",
        "Select @myDate as MyDate"
      ],
      "id": "0ab716ee",
      "execution_count": null,
      "outputs": []
    },
    {
      "cell_type": "code",
      "metadata": {
        "azdata_cell_guid": "a858c15a-d07a-45c1-a6ce-db94bca7291a",
        "tags": []
      },
      "source": [
        "Declare @myDateTime datetime = '02-02-2016'\n",
        "Select @myDateTime as MyDateTime"
      ],
      "id": "ffc49e7c",
      "execution_count": null,
      "outputs": []
    },
    {
      "cell_type": "code",
      "metadata": {
        "azdata_cell_guid": "9519d7c0-b851-41c6-822e-9204e72b4fc6",
        "tags": []
      },
      "source": [
        "Declare @myTime time = '16:25:42.1214'\n",
        "Select @myTime as MyTime"
      ],
      "id": "52590478",
      "execution_count": null,
      "outputs": []
    },
    {
      "cell_type": "code",
      "metadata": {
        "azdata_cell_guid": "c3eb7e0d-f841-4517-ae43-3c2b70214f96",
        "tags": []
      },
      "source": [
        "Declare @myTime time(2) = '16:25:42.1214'\n",
        "Select @myTime as MyTime"
      ],
      "id": "1a99c80d",
      "execution_count": null,
      "outputs": []
    },
    {
      "cell_type": "markdown",
      "metadata": {},
      "source": [
        "<table>\n",
        "<tr>\n",
        "    <td>\n",
        "        <a href=\"https://imgur.com/h0zk8Zn\"><img src=\"https://i.imgur.com/h0zk8Zn.jpg\" title=\"source: imgur.com\"  Height = \"250\" width=\"350\"/></a>\n",
        "    </td>\n",
        "</tr>\n",
        "</table>\n",
        "</table>\n",
        "\n",
        "# Charecter Datatype\n",
        "<table>\n",
        "    <tr>\n",
        "        <td>\n",
        "            <a href=\"https://imgur.com/dQzufRF\"><img src=\"https://i.imgur.com/dQzufRF.jpg\" title=\"source: imgur.com\"  Height = \"250\" width=\"350\"/></a>\n",
        "        </td>\n",
        "        <td>\n",
        "            <a href=\"https://imgur.com/0MQp4eg\"><img src=\"https://i.imgur.com/0MQp4eg.jpg\" title=\"source: imgur.com\"  Height = \"250\" width=\"350\" /></a>\n",
        "        </td>\n",
        "        <td>\n",
        "            <a href=\"https://imgur.com/A6KGpsn\"><img src=\"https://i.imgur.com/A6KGpsn.jpg\" title=\"source: imgur.com\" Height = \"250\" width=\"350\" /></a>\n",
        "        </td>\n",
        "    </tr>\n",
        "</table>\n"
      ],
      "id": "39981596"
    },
    {
      "cell_type": "code",
      "metadata": {
        "azdata_cell_guid": "af13eabb-817a-4288-857c-4cb41c40eb59",
        "tags": []
      },
      "source": [
        "-- Character\n",
        "DECLARE @myChar CHAR(20) = 'PDI'\n",
        "SELECT @myChar AS Char, DATALENGTH (@myChar) as Datalength, LEN(@myChar) AS Len"
      ],
      "id": "77b3d40a",
      "execution_count": null,
      "outputs": []
    },
    {
      "cell_type": "code",
      "metadata": {
        "azdata_cell_guid": "178ce8c2-5ace-4054-adf9-7da75e513087",
        "tags": []
      },
      "source": [
        "-- Varchar\n",
        "DECLARE @myChar VARCHAR(20) = 'PDI Lmtd'\n",
        "SELECT @myChar AS Varchar, DATALENGTH (@myChar) as Datalength, LEN(@myChar) AS Len"
      ],
      "id": "f21a4670",
      "execution_count": null,
      "outputs": []
    },
    {
      "cell_type": "markdown",
      "metadata": {},
      "source": [
        "# Numeric Datatype\n",
        "\n",
        "<table>\n",
        "    <tr>\n",
        "        <td>\n",
        "            <a href=\"https://imgur.com/3LaZhsZ\"><img src=\"https://i.imgur.com/3LaZhsZ.jpg\" title=\"source: imgur.com\" Height = \"250\" width=\"350\"/></a>\n",
        "        </td>\n",
        "        <td>\n",
        "            <a href=\"https://imgur.com/UwyAX8u\"><img src=\"https://i.imgur.com/UwyAX8u.jpg\" title=\"source: imgur.com\" Height = \"250\" width=\"350\" /></a>\n",
        "        </td>\n",
        "        <td>\n",
        "            <a href=\"https://imgur.com/0QLcLq5\"><img src=\"https://i.imgur.com/0QLcLq5.jpg\" title=\"source: imgur.com\" Height = \"250\" width=\"350\" /></a>\n",
        "        </td>\n",
        "    </tr>\n",
        "</table>\n"
      ],
      "id": "87fa6617"
    },
    {
      "cell_type": "code",
      "metadata": {
        "azdata_cell_guid": "c424750d-3dd1-4d13-a915-fbd9709bea20",
        "tags": []
      },
      "source": [
        "DECLARE @num NUMERIC(7,2) = 12376.7854\n",
        "SELECT @num as NumericData"
      ],
      "id": "e4488128",
      "execution_count": null,
      "outputs": []
    },
    {
      "cell_type": "code",
      "metadata": {
        "azdata_cell_guid": "83fbe8b4-bc23-4239-a5b8-f4934d542360",
        "tags": []
      },
      "source": [
        "DECLARE @SmallInt SMALLINT = 12376.7854\n",
        "SELECT @SmallInt AS SmallIntData"
      ],
      "id": "cbc47b2b",
      "execution_count": null,
      "outputs": []
    },
    {
      "cell_type": "code",
      "metadata": {
        "azdata_cell_guid": "1f7898ac-be94-412a-825c-1e6630184335",
        "tags": []
      },
      "source": [
        "-- DECLARE @SmallInt SMALLINT = -32769 \n",
        "-- SELECT @SmallInt AS SmallIntData\n",
        "-----------------Errors when we un comment above and run codes\n",
        "-- if we give more/less than \n",
        "--affordable range it will gives an error\n",
        "--Msg 220, Level 16, State 1, Line 1\n",
        "--Arithmetic overflow error for data type smallint, value = -32769."
      ],
      "id": "67adafff",
      "execution_count": null,
      "outputs": []
    },
    {
      "cell_type": "code",
      "metadata": {
        "azdata_cell_guid": "9b3428c4-b36b-4675-838e-28a68c43b8a7",
        "tags": []
      },
      "source": [
        "DECLARE @TinyInt SMALLINT = 254\n",
        "SELECT @TinyInt AS TinyIntData"
      ],
      "id": "bd9097ba",
      "execution_count": null,
      "outputs": []
    },
    {
      "cell_type": "markdown",
      "metadata": {},
      "source": [
        "<table>\n",
        "    <tr>\n",
        "        <td>\n",
        "            <a href=\"https://imgur.com/4gbEnje\"><img src=\"https://i.imgur.com/4gbEnje.jpg\" title=\"source: imgur.com\" Height = \"250\" width=\"350\"/></a>\n",
        "        </td>\n",
        "        <td>\n",
        "            <a href=\"https://imgur.com/M3gfFAN\"><img src=\"https://i.imgur.com/M3gfFAN.jpg\" title=\"source: imgur.com\" Height = \"250\" width=\"350\" /></a>\n",
        "        </td>\n",
        "    </tr>\n",
        "</table>\n"
      ],
      "id": "4f5c4da9"
    },
    {
      "cell_type": "code",
      "metadata": {
        "azdata_cell_guid": "8ec9ee65-91ea-4228-9aa0-2d3a3a81ff0c",
        "tags": []
      },
      "source": [
        "--Float\n",
        "DECLARE @float FLOAT(10) = 12376.7854\n",
        "SELECT @float as FLOAT"
      ],
      "id": "1560a669",
      "execution_count": null,
      "outputs": []
    },
    {
      "cell_type": "code",
      "metadata": {
        "azdata_cell_guid": "4e522468-5178-4660-be70-7fbc201ac577",
        "tags": []
      },
      "source": [
        "--Data type precedence\n",
        "DECLARE @float1 FLOAT(10), @int INT\n",
        "SET @float1 = 12376.7854\n",
        "SET @int = 570\n",
        "SELECT @float1 + @int as Result"
      ],
      "id": "df298b3a",
      "execution_count": null,
      "outputs": []
    },
    {
      "cell_type": "markdown",
      "metadata": {},
      "source": [
        "# Filter the data using where\n"
      ],
      "id": "302c4244"
    },
    {
      "cell_type": "code",
      "metadata": {
        "azdata_cell_guid": "66e8a856-62af-4764-a6ca-44686622562f",
        "tags": []
      },
      "source": [
        "USE AdventureWorks2014;\n",
        "SELECT TOP 10 * FROM AdventureWorks2014.HumanResources.Employee WHERE SickLeaveHours > 50;"
      ],
      "id": "012245e5",
      "execution_count": null,
      "outputs": []
    },
    {
      "cell_type": "code",
      "metadata": {
        "azdata_cell_guid": "df235edb-09a5-4681-b449-db18b8bad9ba",
        "tags": []
      },
      "source": [
        "SELECT TOP 10 * FROM Sales.CreditCard WHERE ExpYear = 2008;"
      ],
      "id": "5f8b2b30",
      "execution_count": null,
      "outputs": []
    },
    {
      "cell_type": "code",
      "metadata": {
        "azdata_cell_guid": "77641d4f-7584-402b-b3f8-b903d1638477",
        "tags": []
      },
      "source": [
        "USE Training"
      ],
      "id": "112ded22",
      "execution_count": null,
      "outputs": []
    },
    {
      "cell_type": "code",
      "metadata": {
        "azdata_cell_guid": "d0342d31-a6f3-4dea-9d48-a15605f4bbac",
        "tags": []
      },
      "source": [
        "-- selecting products table\n",
        "SELECT * FROM products;"
      ],
      "id": "3bdc7de9",
      "execution_count": null,
      "outputs": []
    },
    {
      "cell_type": "code",
      "metadata": {
        "azdata_cell_guid": "c9177609-3c86-47d7-93d4-a070b61f09ed",
        "tags": []
      },
      "source": [
        "-- selecting city table\n",
        "SELECT * FROM city;"
      ],
      "id": "28586370",
      "execution_count": null,
      "outputs": []
    },
    {
      "cell_type": "code",
      "metadata": {
        "azdata_cell_guid": "c825ca35-b352-41a2-9ec9-db6e62f6c3e5",
        "tags": []
      },
      "source": [
        "SELECT * from City;"
      ],
      "id": "41163a8e",
      "execution_count": null,
      "outputs": []
    },
    {
      "cell_type": "code",
      "metadata": {
        "azdata_cell_guid": "064d86e9-15ca-435c-a161-3cbdf665fff3",
        "tags": []
      },
      "source": [
        "Use Training;"
      ],
      "id": "4d62f6fa",
      "execution_count": null,
      "outputs": []
    },
    {
      "cell_type": "code",
      "metadata": {
        "azdata_cell_guid": "5bbe5240-984e-4ec7-a6d4-860e3f81ff52",
        "tags": []
      },
      "source": [
        "SELECT * \n",
        "from City where populationDensity = 'High';"
      ],
      "id": "069782e3",
      "execution_count": null,
      "outputs": []
    },
    {
      "cell_type": "code",
      "metadata": {
        "azdata_cell_guid": "1c141a8b-e26f-4c7d-9a12-1db4cf855e1c",
        "tags": []
      },
      "source": [
        "SELECT *\n",
        "  FROM City WHERE PopulationDensity = 'High'"
      ],
      "id": "f7267f1d",
      "execution_count": null,
      "outputs": []
    },
    {
      "cell_type": "code",
      "metadata": {
        "azdata_cell_guid": "b88163d1-632d-42c3-abec-c8c43f63cc8c",
        "tags": []
      },
      "source": [
        "SELECT\n",
        "  MIN([DATE_KEY]) AS [MIN_DATE],\n",
        "  MAX([DATE_KEY]) AS [MAX_DATE],\n",
        "  DATEDIFF(YEAR, MIN([DATE_KEY]), MAX([DATE_KEY])) [SPAN_IN_YEARS]\n",
        "FROM [EDW].[F_COLLISIONS]"
      ],
      "id": "e5d4e0cf",
      "execution_count": null,
      "outputs": []
    },
    {
      "cell_type": "code",
      "metadata": {
        "azdata_cell_guid": "6fe8a913-e997-450f-bb62-24858e9cceca",
        "tags": []
      },
      "source": [
        "DECLARE @myDate date = '02-02-2016';\n",
        "SELECT @myDate as MyDate;"
      ],
      "id": "48220841",
      "execution_count": null,
      "outputs": []
    },
    {
      "cell_type": "code",
      "metadata": {
        "azdata_cell_guid": "c5dd6eee-8efb-47c7-a23f-b3b246f4c1f3",
        "tags": []
      },
      "source": [
        "DECLARE @myDate datetime = '02-02-2016';\n",
        "SELECT @myDate as MyDate;"
      ],
      "id": "f3b03f88",
      "execution_count": null,
      "outputs": []
    },
    {
      "cell_type": "markdown",
      "metadata": {},
      "source": [
        "![](https://i.postimg.cc/5tbC1xpX/screenshot-32.png)\n"
      ],
      "id": "34774d5e"
    }
  ],
  "metadata": {
    "kernelspec": {
      "display_name": "SQL",
      "language": "sql",
      "name": "SQL"
    },
    "jupytext": {
      "formats": "ipynb,md"
    }
  },
  "nbformat": 4,
  "nbformat_minor": 5
}